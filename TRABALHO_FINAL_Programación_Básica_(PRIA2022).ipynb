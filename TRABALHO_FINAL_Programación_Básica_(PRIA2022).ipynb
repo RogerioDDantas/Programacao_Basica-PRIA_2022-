{
  "nbformat": 4,
  "nbformat_minor": 0,
  "metadata": {
    "colab": {
      "name": "TRABALHO FINAL - Programación Básica_(PRIA2022).ipynb",
      "provenance": [],
      "authorship_tag": "ABX9TyPxTYHMQFBntNQ7In7Sfg2x",
      "include_colab_link": true
    },
    "kernelspec": {
      "name": "python3",
      "display_name": "Python 3"
    },
    "language_info": {
      "name": "python"
    },
    "widgets": {
      "application/vnd.jupyter.widget-state+json": {
        "808926e12a584dc7bdddcd89f63beef0": {
          "model_module": "jupyter-matplotlib",
          "model_name": "MPLCanvasModel",
          "model_module_version": "^0.11",
          "state": {
            "_cursor": "default",
            "_data_url": "data:image/png;base64,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",
            "_dom_classes": [],
            "_figure_label": "Figure 1",
            "_image_mode": "full",
            "_message": "",
            "_model_module": "jupyter-matplotlib",
            "_model_module_version": "^0.11",
            "_model_name": "MPLCanvasModel",
            "_rubberband_height": 0,
            "_rubberband_width": 0,
            "_rubberband_x": 0,
            "_rubberband_y": 0,
            "_size": [
              432,
              288
            ],
            "_view_count": null,
            "_view_module": "jupyter-matplotlib",
            "_view_module_version": "^0.11",
            "_view_name": "MPLCanvasView",
            "capture_scroll": false,
            "footer_visible": true,
            "header_visible": true,
            "layout": "IPY_MODEL_249ba0de1afc4fb3a918c86fa8a88419",
            "pan_zoom_throttle": 33,
            "resizable": true,
            "toolbar": "IPY_MODEL_6896494a7c1d439a90da7ac72032d9c8",
            "toolbar_position": "left",
            "toolbar_visible": "fade-in-fade-out"
          }
        },
        "249ba0de1afc4fb3a918c86fa8a88419": {
          "model_module": "@jupyter-widgets/base",
          "model_name": "LayoutModel",
          "model_module_version": "1.2.0",
          "state": {
            "_model_module": "@jupyter-widgets/base",
            "_model_module_version": "1.2.0",
            "_model_name": "LayoutModel",
            "_view_count": null,
            "_view_module": "@jupyter-widgets/base",
            "_view_module_version": "1.2.0",
            "_view_name": "LayoutView",
            "align_content": null,
            "align_items": null,
            "align_self": null,
            "border": null,
            "bottom": null,
            "display": null,
            "flex": null,
            "flex_flow": null,
            "grid_area": null,
            "grid_auto_columns": null,
            "grid_auto_flow": null,
            "grid_auto_rows": null,
            "grid_column": null,
            "grid_gap": null,
            "grid_row": null,
            "grid_template_areas": null,
            "grid_template_columns": null,
            "grid_template_rows": null,
            "height": null,
            "justify_content": null,
            "justify_items": null,
            "left": null,
            "margin": null,
            "max_height": null,
            "max_width": null,
            "min_height": null,
            "min_width": null,
            "object_fit": null,
            "object_position": null,
            "order": null,
            "overflow": null,
            "overflow_x": null,
            "overflow_y": null,
            "padding": null,
            "right": null,
            "top": null,
            "visibility": null,
            "width": null
          }
        },
        "6896494a7c1d439a90da7ac72032d9c8": {
          "model_module": "jupyter-matplotlib",
          "model_name": "ToolbarModel",
          "model_module_version": "^0.11",
          "state": {
            "_current_action": "",
            "_dom_classes": [],
            "_model_module": "jupyter-matplotlib",
            "_model_module_version": "^0.11",
            "_model_name": "ToolbarModel",
            "_view_count": null,
            "_view_module": "jupyter-matplotlib",
            "_view_module_version": "^0.11",
            "_view_name": "ToolbarView",
            "button_style": "",
            "collapsed": true,
            "layout": "IPY_MODEL_645d60364272445280bf0730aafb29d5",
            "orientation": "vertical",
            "toolitems": [
              [
                "Home",
                "Reset original view",
                "home",
                "home"
              ],
              [
                "Back",
                "Back to previous view",
                "arrow-left",
                "back"
              ],
              [
                "Forward",
                "Forward to next view",
                "arrow-right",
                "forward"
              ],
              [
                "Pan",
                "Left button pans, Right button zooms\nx/y fixes axis, CTRL fixes aspect",
                "arrows",
                "pan"
              ],
              [
                "Zoom",
                "Zoom to rectangle\nx/y fixes axis",
                "square-o",
                "zoom"
              ],
              [
                "Download",
                "Download plot",
                "floppy-o",
                "save_figure"
              ]
            ]
          }
        },
        "645d60364272445280bf0730aafb29d5": {
          "model_module": "@jupyter-widgets/base",
          "model_name": "LayoutModel",
          "model_module_version": "1.2.0",
          "state": {
            "_model_module": "@jupyter-widgets/base",
            "_model_module_version": "1.2.0",
            "_model_name": "LayoutModel",
            "_view_count": null,
            "_view_module": "@jupyter-widgets/base",
            "_view_module_version": "1.2.0",
            "_view_name": "LayoutView",
            "align_content": null,
            "align_items": null,
            "align_self": null,
            "border": null,
            "bottom": null,
            "display": null,
            "flex": null,
            "flex_flow": null,
            "grid_area": null,
            "grid_auto_columns": null,
            "grid_auto_flow": null,
            "grid_auto_rows": null,
            "grid_column": null,
            "grid_gap": null,
            "grid_row": null,
            "grid_template_areas": null,
            "grid_template_columns": null,
            "grid_template_rows": null,
            "height": null,
            "justify_content": null,
            "justify_items": null,
            "left": null,
            "margin": null,
            "max_height": null,
            "max_width": null,
            "min_height": null,
            "min_width": null,
            "object_fit": null,
            "object_position": null,
            "order": null,
            "overflow": null,
            "overflow_x": null,
            "overflow_y": null,
            "padding": null,
            "right": null,
            "top": null,
            "visibility": null,
            "width": null
          }
        }
      }
    }
  },
  "cells": [
    {
      "cell_type": "markdown",
      "metadata": {
        "id": "view-in-github",
        "colab_type": "text"
      },
      "source": [
        "<a href=\"https://colab.research.google.com/github/RogerioDDantas/Programacao_Basica-PRIA_2022-/blob/main/TRABALHO_FINAL_Programaci%C3%B3n_B%C3%A1sica_(PRIA2022).ipynb\" target=\"_parent\"><img src=\"https://colab.research.google.com/assets/colab-badge.svg\" alt=\"Open In Colab\"/></a>"
      ]
    },
    {
      "cell_type": "markdown",
      "source": [
        "ALUNO: Rogério Daniel Dantas\n",
        "\n",
        "Disciplina: Programación Básica_(PRIA2022)\n",
        "\n",
        "TRABALHO FINAL:\n",
        "\n",
        "RESOLUÇÃO DO TRABALHO:"
      ],
      "metadata": {
        "id": "9AJ-7n_qUKHU"
      }
    },
    {
      "cell_type": "markdown",
      "source": [
        "# **Trabalho Final**\n",
        "\n",
        "Considere o projeto em anexo, que apresenta a modelagem cinemática (Forward Kinematics - FK) de um robô manipulador planar com dois graus de liberdade (de maneira simples, 2 juntas de movimentação). \n",
        "\n",
        "Inicialmente, vocês deverão entender o código implementado e alterá-lo, projetando a implementação de uma classe *Robot*, a qual deverá ser adequadamente projetada para manter a funcionalidade do referido projeto.\n",
        "\n",
        "A segunda etapa consiste em alterar a interface gráfica, permitindo que seja visualizado diferentes tipos de robôs manipuladores, contendo 1, 2, ou 3 juntas rotacionais, de acordo com o objeto instanciado da classe *Robot*.\n",
        "\n",
        "Por fim, deverá ser apresentada, na interface gráfica, a posição cartesiana $(X,Y)$ da extremidade final do robô manipulador, informação essa que deverá ser fornecida pela classe implementada.\n",
        "\n",
        "\n",
        "* Data de envio : **TBD**\n"
      ],
      "metadata": {
        "id": "qnSlK-fGUJ4_"
      }
    },
    {
      "cell_type": "code",
      "execution_count": 1,
      "metadata": {
        "colab": {
          "base_uri": "https://localhost:8080/"
        },
        "id": "WnM1s1e1UF6m",
        "outputId": "cc202e6f-d249-49ac-a0eb-af01ae681793"
      },
      "outputs": [
        {
          "output_type": "stream",
          "name": "stdout",
          "text": [
            "Looking in indexes: https://pypi.org/simple, https://us-python.pkg.dev/colab-wheels/public/simple/\n",
            "Requirement already satisfied: ipympl in /usr/local/lib/python3.7/dist-packages (0.9.1)\n",
            "Requirement already satisfied: numpy in /usr/local/lib/python3.7/dist-packages (from ipympl) (1.21.6)\n",
            "Requirement already satisfied: ipython-genutils in /usr/local/lib/python3.7/dist-packages (from ipympl) (0.2.0)\n",
            "Requirement already satisfied: ipython<9 in /usr/local/lib/python3.7/dist-packages (from ipympl) (5.5.0)\n",
            "Requirement already satisfied: ipywidgets<8,>=7.6.0 in /usr/local/lib/python3.7/dist-packages (from ipympl) (7.7.0)\n",
            "Requirement already satisfied: traitlets<6 in /usr/local/lib/python3.7/dist-packages (from ipympl) (5.1.1)\n",
            "Requirement already satisfied: pillow in /usr/local/lib/python3.7/dist-packages (from ipympl) (7.1.2)\n",
            "Requirement already satisfied: matplotlib<4,>=3.4.0 in /usr/local/lib/python3.7/dist-packages (from ipympl) (3.5.2)\n",
            "Requirement already satisfied: pexpect in /usr/local/lib/python3.7/dist-packages (from ipython<9->ipympl) (4.8.0)\n",
            "Requirement already satisfied: pickleshare in /usr/local/lib/python3.7/dist-packages (from ipython<9->ipympl) (0.7.5)\n",
            "Requirement already satisfied: prompt-toolkit<2.0.0,>=1.0.4 in /usr/local/lib/python3.7/dist-packages (from ipython<9->ipympl) (1.0.18)\n",
            "Requirement already satisfied: simplegeneric>0.8 in /usr/local/lib/python3.7/dist-packages (from ipython<9->ipympl) (0.8.1)\n",
            "Requirement already satisfied: pygments in /usr/local/lib/python3.7/dist-packages (from ipython<9->ipympl) (2.6.1)\n",
            "Requirement already satisfied: decorator in /usr/local/lib/python3.7/dist-packages (from ipython<9->ipympl) (4.4.2)\n",
            "Requirement already satisfied: setuptools>=18.5 in /usr/local/lib/python3.7/dist-packages (from ipython<9->ipympl) (57.4.0)\n",
            "Requirement already satisfied: widgetsnbextension~=3.6.0 in /usr/local/lib/python3.7/dist-packages (from ipywidgets<8,>=7.6.0->ipympl) (3.6.0)\n",
            "Requirement already satisfied: ipykernel>=4.5.1 in /usr/local/lib/python3.7/dist-packages (from ipywidgets<8,>=7.6.0->ipympl) (4.10.1)\n",
            "Requirement already satisfied: nbformat>=4.2.0 in /usr/local/lib/python3.7/dist-packages (from ipywidgets<8,>=7.6.0->ipympl) (5.4.0)\n",
            "Requirement already satisfied: jupyterlab-widgets>=1.0.0 in /usr/local/lib/python3.7/dist-packages (from ipywidgets<8,>=7.6.0->ipympl) (1.1.0)\n",
            "Requirement already satisfied: tornado>=4.0 in /usr/local/lib/python3.7/dist-packages (from ipykernel>=4.5.1->ipywidgets<8,>=7.6.0->ipympl) (5.1.1)\n",
            "Requirement already satisfied: jupyter-client in /usr/local/lib/python3.7/dist-packages (from ipykernel>=4.5.1->ipywidgets<8,>=7.6.0->ipympl) (5.3.5)\n",
            "Requirement already satisfied: python-dateutil>=2.7 in /usr/local/lib/python3.7/dist-packages (from matplotlib<4,>=3.4.0->ipympl) (2.8.2)\n",
            "Requirement already satisfied: packaging>=20.0 in /usr/local/lib/python3.7/dist-packages (from matplotlib<4,>=3.4.0->ipympl) (21.3)\n",
            "Requirement already satisfied: kiwisolver>=1.0.1 in /usr/local/lib/python3.7/dist-packages (from matplotlib<4,>=3.4.0->ipympl) (1.4.3)\n",
            "Requirement already satisfied: cycler>=0.10 in /usr/local/lib/python3.7/dist-packages (from matplotlib<4,>=3.4.0->ipympl) (0.11.0)\n",
            "Requirement already satisfied: pyparsing>=2.2.1 in /usr/local/lib/python3.7/dist-packages (from matplotlib<4,>=3.4.0->ipympl) (3.0.9)\n",
            "Requirement already satisfied: fonttools>=4.22.0 in /usr/local/lib/python3.7/dist-packages (from matplotlib<4,>=3.4.0->ipympl) (4.33.3)\n",
            "Requirement already satisfied: typing-extensions in /usr/local/lib/python3.7/dist-packages (from kiwisolver>=1.0.1->matplotlib<4,>=3.4.0->ipympl) (4.1.1)\n",
            "Requirement already satisfied: jsonschema>=2.6 in /usr/local/lib/python3.7/dist-packages (from nbformat>=4.2.0->ipywidgets<8,>=7.6.0->ipympl) (4.3.3)\n",
            "Requirement already satisfied: jupyter-core in /usr/local/lib/python3.7/dist-packages (from nbformat>=4.2.0->ipywidgets<8,>=7.6.0->ipympl) (4.10.0)\n",
            "Requirement already satisfied: fastjsonschema in /usr/local/lib/python3.7/dist-packages (from nbformat>=4.2.0->ipywidgets<8,>=7.6.0->ipympl) (2.15.3)\n",
            "Requirement already satisfied: importlib-metadata in /usr/local/lib/python3.7/dist-packages (from jsonschema>=2.6->nbformat>=4.2.0->ipywidgets<8,>=7.6.0->ipympl) (4.11.4)\n",
            "Requirement already satisfied: attrs>=17.4.0 in /usr/local/lib/python3.7/dist-packages (from jsonschema>=2.6->nbformat>=4.2.0->ipywidgets<8,>=7.6.0->ipympl) (21.4.0)\n",
            "Requirement already satisfied: pyrsistent!=0.17.0,!=0.17.1,!=0.17.2,>=0.14.0 in /usr/local/lib/python3.7/dist-packages (from jsonschema>=2.6->nbformat>=4.2.0->ipywidgets<8,>=7.6.0->ipympl) (0.18.1)\n",
            "Requirement already satisfied: importlib-resources>=1.4.0 in /usr/local/lib/python3.7/dist-packages (from jsonschema>=2.6->nbformat>=4.2.0->ipywidgets<8,>=7.6.0->ipympl) (5.7.1)\n",
            "Requirement already satisfied: zipp>=3.1.0 in /usr/local/lib/python3.7/dist-packages (from importlib-resources>=1.4.0->jsonschema>=2.6->nbformat>=4.2.0->ipywidgets<8,>=7.6.0->ipympl) (3.8.0)\n",
            "Requirement already satisfied: six>=1.9.0 in /usr/local/lib/python3.7/dist-packages (from prompt-toolkit<2.0.0,>=1.0.4->ipython<9->ipympl) (1.15.0)\n",
            "Requirement already satisfied: wcwidth in /usr/local/lib/python3.7/dist-packages (from prompt-toolkit<2.0.0,>=1.0.4->ipython<9->ipympl) (0.2.5)\n",
            "Requirement already satisfied: notebook>=4.4.1 in /usr/local/lib/python3.7/dist-packages (from widgetsnbextension~=3.6.0->ipywidgets<8,>=7.6.0->ipympl) (5.3.1)\n",
            "Requirement already satisfied: jinja2 in /usr/local/lib/python3.7/dist-packages (from notebook>=4.4.1->widgetsnbextension~=3.6.0->ipywidgets<8,>=7.6.0->ipympl) (2.11.3)\n",
            "Requirement already satisfied: nbconvert in /usr/local/lib/python3.7/dist-packages (from notebook>=4.4.1->widgetsnbextension~=3.6.0->ipywidgets<8,>=7.6.0->ipympl) (5.6.1)\n",
            "Requirement already satisfied: terminado>=0.8.1 in /usr/local/lib/python3.7/dist-packages (from notebook>=4.4.1->widgetsnbextension~=3.6.0->ipywidgets<8,>=7.6.0->ipympl) (0.13.3)\n",
            "Requirement already satisfied: Send2Trash in /usr/local/lib/python3.7/dist-packages (from notebook>=4.4.1->widgetsnbextension~=3.6.0->ipywidgets<8,>=7.6.0->ipympl) (1.8.0)\n",
            "Requirement already satisfied: pyzmq>=13 in /usr/local/lib/python3.7/dist-packages (from jupyter-client->ipykernel>=4.5.1->ipywidgets<8,>=7.6.0->ipympl) (23.1.0)\n",
            "Requirement already satisfied: ptyprocess in /usr/local/lib/python3.7/dist-packages (from terminado>=0.8.1->notebook>=4.4.1->widgetsnbextension~=3.6.0->ipywidgets<8,>=7.6.0->ipympl) (0.7.0)\n",
            "Requirement already satisfied: MarkupSafe>=0.23 in /usr/local/lib/python3.7/dist-packages (from jinja2->notebook>=4.4.1->widgetsnbextension~=3.6.0->ipywidgets<8,>=7.6.0->ipympl) (2.0.1)\n",
            "Requirement already satisfied: pandocfilters>=1.4.1 in /usr/local/lib/python3.7/dist-packages (from nbconvert->notebook>=4.4.1->widgetsnbextension~=3.6.0->ipywidgets<8,>=7.6.0->ipympl) (1.5.0)\n",
            "Requirement already satisfied: mistune<2,>=0.8.1 in /usr/local/lib/python3.7/dist-packages (from nbconvert->notebook>=4.4.1->widgetsnbextension~=3.6.0->ipywidgets<8,>=7.6.0->ipympl) (0.8.4)\n",
            "Requirement already satisfied: entrypoints>=0.2.2 in /usr/local/lib/python3.7/dist-packages (from nbconvert->notebook>=4.4.1->widgetsnbextension~=3.6.0->ipywidgets<8,>=7.6.0->ipympl) (0.4)\n",
            "Requirement already satisfied: testpath in /usr/local/lib/python3.7/dist-packages (from nbconvert->notebook>=4.4.1->widgetsnbextension~=3.6.0->ipywidgets<8,>=7.6.0->ipympl) (0.6.0)\n",
            "Requirement already satisfied: defusedxml in /usr/local/lib/python3.7/dist-packages (from nbconvert->notebook>=4.4.1->widgetsnbextension~=3.6.0->ipywidgets<8,>=7.6.0->ipympl) (0.7.1)\n",
            "Requirement already satisfied: bleach in /usr/local/lib/python3.7/dist-packages (from nbconvert->notebook>=4.4.1->widgetsnbextension~=3.6.0->ipywidgets<8,>=7.6.0->ipympl) (5.0.0)\n",
            "Requirement already satisfied: webencodings in /usr/local/lib/python3.7/dist-packages (from bleach->nbconvert->notebook>=4.4.1->widgetsnbextension~=3.6.0->ipywidgets<8,>=7.6.0->ipympl) (0.5.1)\n"
          ]
        }
      ],
      "source": [
        "pip install ipympl"
      ]
    },
    {
      "cell_type": "code",
      "source": [
        "pip install ipywidgets"
      ],
      "metadata": {
        "colab": {
          "base_uri": "https://localhost:8080/"
        },
        "id": "JbgbzpA-UpDP",
        "outputId": "0cc5cc73-e4bc-46de-fef3-7f922ebc0b3d"
      },
      "execution_count": 2,
      "outputs": [
        {
          "output_type": "stream",
          "name": "stdout",
          "text": [
            "Looking in indexes: https://pypi.org/simple, https://us-python.pkg.dev/colab-wheels/public/simple/\n",
            "Requirement already satisfied: ipywidgets in /usr/local/lib/python3.7/dist-packages (7.7.0)\n",
            "Requirement already satisfied: widgetsnbextension~=3.6.0 in /usr/local/lib/python3.7/dist-packages (from ipywidgets) (3.6.0)\n",
            "Requirement already satisfied: ipython-genutils~=0.2.0 in /usr/local/lib/python3.7/dist-packages (from ipywidgets) (0.2.0)\n",
            "Requirement already satisfied: ipython>=4.0.0 in /usr/local/lib/python3.7/dist-packages (from ipywidgets) (5.5.0)\n",
            "Requirement already satisfied: traitlets>=4.3.1 in /usr/local/lib/python3.7/dist-packages (from ipywidgets) (5.1.1)\n",
            "Requirement already satisfied: jupyterlab-widgets>=1.0.0 in /usr/local/lib/python3.7/dist-packages (from ipywidgets) (1.1.0)\n",
            "Requirement already satisfied: nbformat>=4.2.0 in /usr/local/lib/python3.7/dist-packages (from ipywidgets) (5.4.0)\n",
            "Requirement already satisfied: ipykernel>=4.5.1 in /usr/local/lib/python3.7/dist-packages (from ipywidgets) (4.10.1)\n",
            "Requirement already satisfied: jupyter-client in /usr/local/lib/python3.7/dist-packages (from ipykernel>=4.5.1->ipywidgets) (5.3.5)\n",
            "Requirement already satisfied: tornado>=4.0 in /usr/local/lib/python3.7/dist-packages (from ipykernel>=4.5.1->ipywidgets) (5.1.1)\n",
            "Requirement already satisfied: decorator in /usr/local/lib/python3.7/dist-packages (from ipython>=4.0.0->ipywidgets) (4.4.2)\n",
            "Requirement already satisfied: pickleshare in /usr/local/lib/python3.7/dist-packages (from ipython>=4.0.0->ipywidgets) (0.7.5)\n",
            "Requirement already satisfied: prompt-toolkit<2.0.0,>=1.0.4 in /usr/local/lib/python3.7/dist-packages (from ipython>=4.0.0->ipywidgets) (1.0.18)\n",
            "Requirement already satisfied: pygments in /usr/local/lib/python3.7/dist-packages (from ipython>=4.0.0->ipywidgets) (2.6.1)\n",
            "Requirement already satisfied: pexpect in /usr/local/lib/python3.7/dist-packages (from ipython>=4.0.0->ipywidgets) (4.8.0)\n",
            "Requirement already satisfied: setuptools>=18.5 in /usr/local/lib/python3.7/dist-packages (from ipython>=4.0.0->ipywidgets) (57.4.0)\n",
            "Requirement already satisfied: simplegeneric>0.8 in /usr/local/lib/python3.7/dist-packages (from ipython>=4.0.0->ipywidgets) (0.8.1)\n",
            "Requirement already satisfied: jupyter-core in /usr/local/lib/python3.7/dist-packages (from nbformat>=4.2.0->ipywidgets) (4.10.0)\n",
            "Requirement already satisfied: jsonschema>=2.6 in /usr/local/lib/python3.7/dist-packages (from nbformat>=4.2.0->ipywidgets) (4.3.3)\n",
            "Requirement already satisfied: fastjsonschema in /usr/local/lib/python3.7/dist-packages (from nbformat>=4.2.0->ipywidgets) (2.15.3)\n",
            "Requirement already satisfied: pyrsistent!=0.17.0,!=0.17.1,!=0.17.2,>=0.14.0 in /usr/local/lib/python3.7/dist-packages (from jsonschema>=2.6->nbformat>=4.2.0->ipywidgets) (0.18.1)\n",
            "Requirement already satisfied: importlib-metadata in /usr/local/lib/python3.7/dist-packages (from jsonschema>=2.6->nbformat>=4.2.0->ipywidgets) (4.11.4)\n",
            "Requirement already satisfied: typing-extensions in /usr/local/lib/python3.7/dist-packages (from jsonschema>=2.6->nbformat>=4.2.0->ipywidgets) (4.1.1)\n",
            "Requirement already satisfied: importlib-resources>=1.4.0 in /usr/local/lib/python3.7/dist-packages (from jsonschema>=2.6->nbformat>=4.2.0->ipywidgets) (5.7.1)\n",
            "Requirement already satisfied: attrs>=17.4.0 in /usr/local/lib/python3.7/dist-packages (from jsonschema>=2.6->nbformat>=4.2.0->ipywidgets) (21.4.0)\n",
            "Requirement already satisfied: zipp>=3.1.0 in /usr/local/lib/python3.7/dist-packages (from importlib-resources>=1.4.0->jsonschema>=2.6->nbformat>=4.2.0->ipywidgets) (3.8.0)\n",
            "Requirement already satisfied: wcwidth in /usr/local/lib/python3.7/dist-packages (from prompt-toolkit<2.0.0,>=1.0.4->ipython>=4.0.0->ipywidgets) (0.2.5)\n",
            "Requirement already satisfied: six>=1.9.0 in /usr/local/lib/python3.7/dist-packages (from prompt-toolkit<2.0.0,>=1.0.4->ipython>=4.0.0->ipywidgets) (1.15.0)\n",
            "Requirement already satisfied: notebook>=4.4.1 in /usr/local/lib/python3.7/dist-packages (from widgetsnbextension~=3.6.0->ipywidgets) (5.3.1)\n",
            "Requirement already satisfied: terminado>=0.8.1 in /usr/local/lib/python3.7/dist-packages (from notebook>=4.4.1->widgetsnbextension~=3.6.0->ipywidgets) (0.13.3)\n",
            "Requirement already satisfied: jinja2 in /usr/local/lib/python3.7/dist-packages (from notebook>=4.4.1->widgetsnbextension~=3.6.0->ipywidgets) (2.11.3)\n",
            "Requirement already satisfied: Send2Trash in /usr/local/lib/python3.7/dist-packages (from notebook>=4.4.1->widgetsnbextension~=3.6.0->ipywidgets) (1.8.0)\n",
            "Requirement already satisfied: nbconvert in /usr/local/lib/python3.7/dist-packages (from notebook>=4.4.1->widgetsnbextension~=3.6.0->ipywidgets) (5.6.1)\n",
            "Requirement already satisfied: pyzmq>=13 in /usr/local/lib/python3.7/dist-packages (from jupyter-client->ipykernel>=4.5.1->ipywidgets) (23.1.0)\n",
            "Requirement already satisfied: python-dateutil>=2.1 in /usr/local/lib/python3.7/dist-packages (from jupyter-client->ipykernel>=4.5.1->ipywidgets) (2.8.2)\n",
            "Requirement already satisfied: ptyprocess in /usr/local/lib/python3.7/dist-packages (from terminado>=0.8.1->notebook>=4.4.1->widgetsnbextension~=3.6.0->ipywidgets) (0.7.0)\n",
            "Requirement already satisfied: MarkupSafe>=0.23 in /usr/local/lib/python3.7/dist-packages (from jinja2->notebook>=4.4.1->widgetsnbextension~=3.6.0->ipywidgets) (2.0.1)\n",
            "Requirement already satisfied: mistune<2,>=0.8.1 in /usr/local/lib/python3.7/dist-packages (from nbconvert->notebook>=4.4.1->widgetsnbextension~=3.6.0->ipywidgets) (0.8.4)\n",
            "Requirement already satisfied: pandocfilters>=1.4.1 in /usr/local/lib/python3.7/dist-packages (from nbconvert->notebook>=4.4.1->widgetsnbextension~=3.6.0->ipywidgets) (1.5.0)\n",
            "Requirement already satisfied: testpath in /usr/local/lib/python3.7/dist-packages (from nbconvert->notebook>=4.4.1->widgetsnbextension~=3.6.0->ipywidgets) (0.6.0)\n",
            "Requirement already satisfied: defusedxml in /usr/local/lib/python3.7/dist-packages (from nbconvert->notebook>=4.4.1->widgetsnbextension~=3.6.0->ipywidgets) (0.7.1)\n",
            "Requirement already satisfied: entrypoints>=0.2.2 in /usr/local/lib/python3.7/dist-packages (from nbconvert->notebook>=4.4.1->widgetsnbextension~=3.6.0->ipywidgets) (0.4)\n",
            "Requirement already satisfied: bleach in /usr/local/lib/python3.7/dist-packages (from nbconvert->notebook>=4.4.1->widgetsnbextension~=3.6.0->ipywidgets) (5.0.0)\n",
            "Requirement already satisfied: webencodings in /usr/local/lib/python3.7/dist-packages (from bleach->nbconvert->notebook>=4.4.1->widgetsnbextension~=3.6.0->ipywidgets) (0.5.1)\n"
          ]
        }
      ]
    },
    {
      "cell_type": "code",
      "source": [
        "pip install --upgrade matplotlib"
      ],
      "metadata": {
        "colab": {
          "base_uri": "https://localhost:8080/"
        },
        "id": "UGARaVaeUrpq",
        "outputId": "ca0f2162-630f-4924-8dbb-6646067e7773"
      },
      "execution_count": 3,
      "outputs": [
        {
          "output_type": "stream",
          "name": "stdout",
          "text": [
            "Looking in indexes: https://pypi.org/simple, https://us-python.pkg.dev/colab-wheels/public/simple/\n",
            "Requirement already satisfied: matplotlib in /usr/local/lib/python3.7/dist-packages (3.5.2)\n",
            "Requirement already satisfied: python-dateutil>=2.7 in /usr/local/lib/python3.7/dist-packages (from matplotlib) (2.8.2)\n",
            "Requirement already satisfied: fonttools>=4.22.0 in /usr/local/lib/python3.7/dist-packages (from matplotlib) (4.33.3)\n",
            "Requirement already satisfied: cycler>=0.10 in /usr/local/lib/python3.7/dist-packages (from matplotlib) (0.11.0)\n",
            "Requirement already satisfied: pillow>=6.2.0 in /usr/local/lib/python3.7/dist-packages (from matplotlib) (7.1.2)\n",
            "Requirement already satisfied: packaging>=20.0 in /usr/local/lib/python3.7/dist-packages (from matplotlib) (21.3)\n",
            "Requirement already satisfied: kiwisolver>=1.0.1 in /usr/local/lib/python3.7/dist-packages (from matplotlib) (1.4.3)\n",
            "Requirement already satisfied: numpy>=1.17 in /usr/local/lib/python3.7/dist-packages (from matplotlib) (1.21.6)\n",
            "Requirement already satisfied: pyparsing>=2.2.1 in /usr/local/lib/python3.7/dist-packages (from matplotlib) (3.0.9)\n",
            "Requirement already satisfied: typing-extensions in /usr/local/lib/python3.7/dist-packages (from kiwisolver>=1.0.1->matplotlib) (4.1.1)\n",
            "Requirement already satisfied: six>=1.5 in /usr/local/lib/python3.7/dist-packages (from python-dateutil>=2.7->matplotlib) (1.15.0)\n"
          ]
        }
      ]
    },
    {
      "cell_type": "code",
      "source": [
        "!pip install ipympl\n",
        "from google.colab import output\n",
        "output.enable_custom_widget_manager()"
      ],
      "metadata": {
        "colab": {
          "base_uri": "https://localhost:8080/"
        },
        "id": "pWvbWkR0Uu11",
        "outputId": "6923bebf-c929-436d-bb84-5e5ae0832c20"
      },
      "execution_count": 4,
      "outputs": [
        {
          "output_type": "stream",
          "name": "stdout",
          "text": [
            "Looking in indexes: https://pypi.org/simple, https://us-python.pkg.dev/colab-wheels/public/simple/\n",
            "Requirement already satisfied: ipympl in /usr/local/lib/python3.7/dist-packages (0.9.1)\n",
            "Requirement already satisfied: ipywidgets<8,>=7.6.0 in /usr/local/lib/python3.7/dist-packages (from ipympl) (7.7.0)\n",
            "Requirement already satisfied: traitlets<6 in /usr/local/lib/python3.7/dist-packages (from ipympl) (5.1.1)\n",
            "Requirement already satisfied: ipython-genutils in /usr/local/lib/python3.7/dist-packages (from ipympl) (0.2.0)\n",
            "Requirement already satisfied: ipython<9 in /usr/local/lib/python3.7/dist-packages (from ipympl) (5.5.0)\n",
            "Requirement already satisfied: matplotlib<4,>=3.4.0 in /usr/local/lib/python3.7/dist-packages (from ipympl) (3.5.2)\n",
            "Requirement already satisfied: numpy in /usr/local/lib/python3.7/dist-packages (from ipympl) (1.21.6)\n",
            "Requirement already satisfied: pillow in /usr/local/lib/python3.7/dist-packages (from ipympl) (7.1.2)\n",
            "Requirement already satisfied: pexpect in /usr/local/lib/python3.7/dist-packages (from ipython<9->ipympl) (4.8.0)\n",
            "Requirement already satisfied: simplegeneric>0.8 in /usr/local/lib/python3.7/dist-packages (from ipython<9->ipympl) (0.8.1)\n",
            "Requirement already satisfied: setuptools>=18.5 in /usr/local/lib/python3.7/dist-packages (from ipython<9->ipympl) (57.4.0)\n",
            "Requirement already satisfied: decorator in /usr/local/lib/python3.7/dist-packages (from ipython<9->ipympl) (4.4.2)\n",
            "Requirement already satisfied: pickleshare in /usr/local/lib/python3.7/dist-packages (from ipython<9->ipympl) (0.7.5)\n",
            "Requirement already satisfied: prompt-toolkit<2.0.0,>=1.0.4 in /usr/local/lib/python3.7/dist-packages (from ipython<9->ipympl) (1.0.18)\n",
            "Requirement already satisfied: pygments in /usr/local/lib/python3.7/dist-packages (from ipython<9->ipympl) (2.6.1)\n",
            "Requirement already satisfied: ipykernel>=4.5.1 in /usr/local/lib/python3.7/dist-packages (from ipywidgets<8,>=7.6.0->ipympl) (4.10.1)\n",
            "Requirement already satisfied: widgetsnbextension~=3.6.0 in /usr/local/lib/python3.7/dist-packages (from ipywidgets<8,>=7.6.0->ipympl) (3.6.0)\n",
            "Requirement already satisfied: jupyterlab-widgets>=1.0.0 in /usr/local/lib/python3.7/dist-packages (from ipywidgets<8,>=7.6.0->ipympl) (1.1.0)\n",
            "Requirement already satisfied: nbformat>=4.2.0 in /usr/local/lib/python3.7/dist-packages (from ipywidgets<8,>=7.6.0->ipympl) (5.4.0)\n",
            "Requirement already satisfied: tornado>=4.0 in /usr/local/lib/python3.7/dist-packages (from ipykernel>=4.5.1->ipywidgets<8,>=7.6.0->ipympl) (5.1.1)\n",
            "Requirement already satisfied: jupyter-client in /usr/local/lib/python3.7/dist-packages (from ipykernel>=4.5.1->ipywidgets<8,>=7.6.0->ipympl) (5.3.5)\n",
            "Requirement already satisfied: packaging>=20.0 in /usr/local/lib/python3.7/dist-packages (from matplotlib<4,>=3.4.0->ipympl) (21.3)\n",
            "Requirement already satisfied: cycler>=0.10 in /usr/local/lib/python3.7/dist-packages (from matplotlib<4,>=3.4.0->ipympl) (0.11.0)\n",
            "Requirement already satisfied: kiwisolver>=1.0.1 in /usr/local/lib/python3.7/dist-packages (from matplotlib<4,>=3.4.0->ipympl) (1.4.3)\n",
            "Requirement already satisfied: fonttools>=4.22.0 in /usr/local/lib/python3.7/dist-packages (from matplotlib<4,>=3.4.0->ipympl) (4.33.3)\n",
            "Requirement already satisfied: python-dateutil>=2.7 in /usr/local/lib/python3.7/dist-packages (from matplotlib<4,>=3.4.0->ipympl) (2.8.2)\n",
            "Requirement already satisfied: pyparsing>=2.2.1 in /usr/local/lib/python3.7/dist-packages (from matplotlib<4,>=3.4.0->ipympl) (3.0.9)\n",
            "Requirement already satisfied: typing-extensions in /usr/local/lib/python3.7/dist-packages (from kiwisolver>=1.0.1->matplotlib<4,>=3.4.0->ipympl) (4.1.1)\n",
            "Requirement already satisfied: jupyter-core in /usr/local/lib/python3.7/dist-packages (from nbformat>=4.2.0->ipywidgets<8,>=7.6.0->ipympl) (4.10.0)\n",
            "Requirement already satisfied: fastjsonschema in /usr/local/lib/python3.7/dist-packages (from nbformat>=4.2.0->ipywidgets<8,>=7.6.0->ipympl) (2.15.3)\n",
            "Requirement already satisfied: jsonschema>=2.6 in /usr/local/lib/python3.7/dist-packages (from nbformat>=4.2.0->ipywidgets<8,>=7.6.0->ipympl) (4.3.3)\n",
            "Requirement already satisfied: importlib-resources>=1.4.0 in /usr/local/lib/python3.7/dist-packages (from jsonschema>=2.6->nbformat>=4.2.0->ipywidgets<8,>=7.6.0->ipympl) (5.7.1)\n",
            "Requirement already satisfied: pyrsistent!=0.17.0,!=0.17.1,!=0.17.2,>=0.14.0 in /usr/local/lib/python3.7/dist-packages (from jsonschema>=2.6->nbformat>=4.2.0->ipywidgets<8,>=7.6.0->ipympl) (0.18.1)\n",
            "Requirement already satisfied: attrs>=17.4.0 in /usr/local/lib/python3.7/dist-packages (from jsonschema>=2.6->nbformat>=4.2.0->ipywidgets<8,>=7.6.0->ipympl) (21.4.0)\n",
            "Requirement already satisfied: importlib-metadata in /usr/local/lib/python3.7/dist-packages (from jsonschema>=2.6->nbformat>=4.2.0->ipywidgets<8,>=7.6.0->ipympl) (4.11.4)\n",
            "Requirement already satisfied: zipp>=3.1.0 in /usr/local/lib/python3.7/dist-packages (from importlib-resources>=1.4.0->jsonschema>=2.6->nbformat>=4.2.0->ipywidgets<8,>=7.6.0->ipympl) (3.8.0)\n",
            "Requirement already satisfied: wcwidth in /usr/local/lib/python3.7/dist-packages (from prompt-toolkit<2.0.0,>=1.0.4->ipython<9->ipympl) (0.2.5)\n",
            "Requirement already satisfied: six>=1.9.0 in /usr/local/lib/python3.7/dist-packages (from prompt-toolkit<2.0.0,>=1.0.4->ipython<9->ipympl) (1.15.0)\n",
            "Requirement already satisfied: notebook>=4.4.1 in /usr/local/lib/python3.7/dist-packages (from widgetsnbextension~=3.6.0->ipywidgets<8,>=7.6.0->ipympl) (5.3.1)\n",
            "Requirement already satisfied: terminado>=0.8.1 in /usr/local/lib/python3.7/dist-packages (from notebook>=4.4.1->widgetsnbextension~=3.6.0->ipywidgets<8,>=7.6.0->ipympl) (0.13.3)\n",
            "Requirement already satisfied: Send2Trash in /usr/local/lib/python3.7/dist-packages (from notebook>=4.4.1->widgetsnbextension~=3.6.0->ipywidgets<8,>=7.6.0->ipympl) (1.8.0)\n",
            "Requirement already satisfied: jinja2 in /usr/local/lib/python3.7/dist-packages (from notebook>=4.4.1->widgetsnbextension~=3.6.0->ipywidgets<8,>=7.6.0->ipympl) (2.11.3)\n",
            "Requirement already satisfied: nbconvert in /usr/local/lib/python3.7/dist-packages (from notebook>=4.4.1->widgetsnbextension~=3.6.0->ipywidgets<8,>=7.6.0->ipympl) (5.6.1)\n",
            "Requirement already satisfied: pyzmq>=13 in /usr/local/lib/python3.7/dist-packages (from jupyter-client->ipykernel>=4.5.1->ipywidgets<8,>=7.6.0->ipympl) (23.1.0)\n",
            "Requirement already satisfied: ptyprocess in /usr/local/lib/python3.7/dist-packages (from terminado>=0.8.1->notebook>=4.4.1->widgetsnbextension~=3.6.0->ipywidgets<8,>=7.6.0->ipympl) (0.7.0)\n",
            "Requirement already satisfied: MarkupSafe>=0.23 in /usr/local/lib/python3.7/dist-packages (from jinja2->notebook>=4.4.1->widgetsnbextension~=3.6.0->ipywidgets<8,>=7.6.0->ipympl) (2.0.1)\n",
            "Requirement already satisfied: testpath in /usr/local/lib/python3.7/dist-packages (from nbconvert->notebook>=4.4.1->widgetsnbextension~=3.6.0->ipywidgets<8,>=7.6.0->ipympl) (0.6.0)\n",
            "Requirement already satisfied: entrypoints>=0.2.2 in /usr/local/lib/python3.7/dist-packages (from nbconvert->notebook>=4.4.1->widgetsnbextension~=3.6.0->ipywidgets<8,>=7.6.0->ipympl) (0.4)\n",
            "Requirement already satisfied: mistune<2,>=0.8.1 in /usr/local/lib/python3.7/dist-packages (from nbconvert->notebook>=4.4.1->widgetsnbextension~=3.6.0->ipywidgets<8,>=7.6.0->ipympl) (0.8.4)\n",
            "Requirement already satisfied: bleach in /usr/local/lib/python3.7/dist-packages (from nbconvert->notebook>=4.4.1->widgetsnbextension~=3.6.0->ipywidgets<8,>=7.6.0->ipympl) (5.0.0)\n",
            "Requirement already satisfied: pandocfilters>=1.4.1 in /usr/local/lib/python3.7/dist-packages (from nbconvert->notebook>=4.4.1->widgetsnbextension~=3.6.0->ipywidgets<8,>=7.6.0->ipympl) (1.5.0)\n",
            "Requirement already satisfied: defusedxml in /usr/local/lib/python3.7/dist-packages (from nbconvert->notebook>=4.4.1->widgetsnbextension~=3.6.0->ipywidgets<8,>=7.6.0->ipympl) (0.7.1)\n",
            "Requirement already satisfied: webencodings in /usr/local/lib/python3.7/dist-packages (from bleach->nbconvert->notebook>=4.4.1->widgetsnbextension~=3.6.0->ipywidgets<8,>=7.6.0->ipympl) (0.5.1)\n"
          ]
        }
      ]
    },
    {
      "cell_type": "code",
      "source": [
        "# TRBALHO FINAL: Código recebido!.\n",
        "\n",
        "\n",
        "import numpy as np\n",
        "import matplotlib.pyplot as plt\n",
        "from matplotlib.widgets import Slider\n",
        "import math\n",
        "\n",
        "%matplotlib widget\n",
        "\n",
        "l1 = 0.5    # Comprimento do ELO1\n",
        "l2 = 0.5    # Comprimento do ELO2\n",
        "l3 = 0.5    # Comprimento do ELO3\n",
        "\n",
        "L = [l1, l2, l3]\n",
        "th = [0.0*math.pi, 0.0*math.pi, 0.0*math.pi]\n",
        "\n",
        "def FK(th, L):\n",
        "  global x3, y3\n",
        "  L1, L2, L3 = L\n",
        "  Th1, Th2, Th3 = th\n",
        "  x0 = 0.0\n",
        "  y0 = 0.0\n",
        "\n",
        "  x1 = L1*math.cos(Th1)\n",
        "  y1 = L1*math.sin(Th1)\n",
        "  #print('{:.2f},{:.2f}'.format(x1, y1))\n",
        "\n",
        "  x2 = L1*math.cos(Th1) + L2*math.cos(Th1 + Th2)\n",
        "  y2 = L1*math.sin(Th1) + L2*math.sin(Th1 + Th2)\n",
        "  #print('{:.2f},{:.2f}'.format(x2, y2))\n",
        "\n",
        "  x3 = L1*math.cos(Th1) + L2*math.cos(Th1 + Th2) + L3*math.cos(Th1 + Th2 + Th3)\n",
        "  y3 = L1*math.sin(Th1) + L2*math.sin(Th1 + Th2) + L3*math.sin(Th1 + Th2+ Th3)\n",
        "  #print('{:.2f},{:.2f}'.format(x3, y3))\n",
        "\n",
        "  X = np.array([[x0,y0], [x1,y1], [x2,y2], [x3,y3]])\n",
        "  return X\n",
        "\n",
        "def update_th1(slider_val):\n",
        "  th[0] = slider_val\n",
        "  atualiza()\n",
        "  \n",
        "\n",
        "def update_th2(slider_val):\n",
        "  th[1] = slider_val\n",
        "  atualiza()\n",
        "\n",
        "def update_th3(slider_val):\n",
        "  th[2] = slider_val\n",
        "  atualiza()\n",
        "\n",
        "  \n",
        "def atualiza():\n",
        "  p = FK(th,L)\n",
        "\n",
        "  graph.set_data(p.T[0], p.T[1])\n",
        "  graph.set_linestyle('-')\n",
        "  graph.set_linewidth(5)\n",
        "  graph.set_marker('o')\n",
        "  graph.set_markerfacecolor('g')\n",
        "  graph.set_markeredgecolor('g')\n",
        "  graph.set_markersize(10)\n",
        "  #ax.text(2.0, 1.8,\"{:.2fP(},{:.2f})\".format(x3,y3))\n",
        "  #print(x3,y3)\n",
        "  \n",
        "  #fig.canvas.draw_idle()\n",
        "  #fig.canvas.draw()\n",
        "  #fig.canvas.flush_events()\n",
        "  ax.text(1.8, 1.8, \"({:.2f},{:.2f})\".format(x3,y3), transform=fig.transFigure)\n",
        "  #plt.draw() \n",
        "  fig.canvas.flush_events() \n",
        "  fig.canvas.draw_idle()   \n",
        " \n",
        "  \n",
        "\n",
        "p = FK(th,L)\n",
        "fig, ax = plt.subplots()\n",
        "plt.title('Forward Kinematics 3 Links')\n",
        "plt.axis('equal')\n",
        "#plt.text(x3,y3,'(x{:.2f},y{:.2f})'.format(x3,y3))\n",
        "plt.subplots_adjust(left=.1, bottom=0.20) \n",
        "plt.xlim([-2.8, 2.8])\n",
        "plt.ylim([-2.8, 2.8])\n",
        "#ax.text(1,1,\"{:.2fP(},{:.2f})\".format(x3,y3))\n",
        "\n",
        "graph, = plt.plot(p.T[0], p.T[1])\n",
        "\n",
        "slider1_pos = plt.axes([0.1, 0.10, 0.8, 0.03])\n",
        "slider2_pos = plt.axes([0.1, 0.05, 0.8, 0.03])\n",
        "slider3_pos = plt.axes([0.1, 0.0, 0.8, 0.03])\n",
        "\n",
        "threshold_slider1 = Slider(slider1_pos, 'th1', -1.0*math.pi, 1.0*math.pi, 0*math.pi)\n",
        "threshold_slider2 = Slider(slider2_pos, 'th2', -1.0*math.pi, 1.0*math.pi, 0*math.pi)\n",
        "threshold_slider3 = Slider(slider3_pos, 'th3', -1.0*math.pi, 1.0*math.pi, 0*math.pi)\n",
        "#position_efetuador = \n",
        "\n",
        "threshold_slider1.on_changed(update_th1)\n",
        "threshold_slider2.on_changed(update_th2)\n",
        "threshold_slider3.on_changed(update_th3)\n",
        "\n",
        "plt.grid()\n",
        "plt.show()"
      ],
      "metadata": {
        "colab": {
          "base_uri": "https://localhost:8080/",
          "height": 377,
          "referenced_widgets": [
            "808926e12a584dc7bdddcd89f63beef0",
            "249ba0de1afc4fb3a918c86fa8a88419",
            "6896494a7c1d439a90da7ac72032d9c8",
            "645d60364272445280bf0730aafb29d5"
          ]
        },
        "id": "UrigJv9ZUyKn",
        "outputId": "156db4ee-1b3f-45bf-c471-11a2879497b9"
      },
      "execution_count": 5,
      "outputs": [
        {
          "output_type": "display_data",
          "data": {
            "text/plain": [
              "Canvas(toolbar=Toolbar(toolitems=[('Home', 'Reset original view', 'home', 'home'), ('Back', 'Back to previous …"
            ],
            "image/png": "[encoded data removed]",
            "text/html": [
              "\n",
              "            <div style=\"display: inline-block;\">\n",
              "                <div class=\"jupyter-widgets widget-label\" style=\"text-align: center;\">\n",
              "                    Figure\n",
              "                </div>\n",
              "                <img src='data:image/png;base64,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' width=432.0/>\n",
              "            </div>\n",
              "        "
            ],
            "application/vnd.jupyter.widget-view+json": {
              "version_major": 2,
              "version_minor": 0,
              "model_id": "808926e12a584dc7bdddcd89f63beef0"
            }
          },
          "metadata": {
            "application/vnd.jupyter.widget-view+json": {
              "colab": {
                "custom_widget_manager": {
                  "url": "https://ssl.gstatic.com/colaboratory-static/widgets/colab-cdn-widget-manager/a8874ba6619b6106/manager.min.js"
                }
              }
            }
          }
        }
      ]
    }
  ]
}