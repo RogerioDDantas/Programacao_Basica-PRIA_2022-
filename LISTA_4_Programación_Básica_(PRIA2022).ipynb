{
  "nbformat": 4,
  "nbformat_minor": 0,
  "metadata": {
    "colab": {
      "name": "LISTA 4 - Programación Básica_(PRIA2022).ipynb",
      "provenance": [],
      "authorship_tag": "ABX9TyPSd4l55R7jXNGrmn+El2MV",
      "include_colab_link": true
    },
    "kernelspec": {
      "name": "python3",
      "display_name": "Python 3"
    },
    "language_info": {
      "name": "python"
    }
  },
  "cells": [
    {
      "cell_type": "markdown",
      "metadata": {
        "id": "view-in-github",
        "colab_type": "text"
      },
      "source": [
        "<a href=\"https://colab.research.google.com/github/RogerioDDantas/Programacao_Basica-PRIA_2022-/blob/main/LISTA_4_Programaci%C3%B3n_B%C3%A1sica_(PRIA2022).ipynb\" target=\"_parent\"><img src=\"https://colab.research.google.com/assets/colab-badge.svg\" alt=\"Open In Colab\"/></a>"
      ]
    },
    {
      "cell_type": "markdown",
      "source": [
        "ALUNO: Rogério Daniel Dantas\n",
        "\n",
        "Disciplina: Programación Básica_(PRIA2022)\n",
        "\n",
        "LISTA 4:\n",
        "\n",
        "RESOLUÇÃO DOS EXERCÍCIOS:"
      ],
      "metadata": {
        "id": "XkqCjAYtOhlR"
      }
    },
    {
      "cell_type": "markdown",
      "source": [
        "32 - Dadas matrizes numpy bidimensionais semelhantes, como obter uma saída de matriz numpy onde cada elemento é uma soma de elementos das 2 matrizes numpy?\n"
      ],
      "metadata": {
        "id": "wwL3qJXuOpGi"
      }
    },
    {
      "cell_type": "code",
      "execution_count": 1,
      "metadata": {
        "colab": {
          "base_uri": "https://localhost:8080/"
        },
        "id": "riR3owIiOfJ8",
        "outputId": "96764531-b0af-495c-8dc8-7a6f88e2dfef"
      },
      "outputs": [
        {
          "output_type": "stream",
          "name": "stdout",
          "text": [
            "Matriz 1 =  [[1 2]\n",
            " [3 4]]\n",
            "Matriz 2 =  [[5 6]\n",
            " [7 8]]\n",
            "Soma de mat1 + mat2 =  [[ 6  8]\n",
            " [10 12]]\n",
            "\n",
            "\n",
            "FIM DO PROGRAMA!!!\n"
          ]
        }
      ],
      "source": [
        "# Resolução Exercício 32\n",
        "import numpy as np\n",
        "\n",
        "mat1 = np.array([[1, 2], [3, 4]])\n",
        "mat2 = np.array([[5, 6], [7, 8]])\n",
        "\n",
        "mat = mat1 + mat2\n",
        "\n",
        "print(\"Matriz 1 = \", mat1)\n",
        "print(\"Matriz 2 = \", mat2)\n",
        "print(\"Soma de mat1 + mat2 = \", mat)\n",
        "\n",
        "print(\"\\n\\nFIM DO PROGRAMA!!!\")\n",
        "## EXERCÍCIO FUNCIONANDO! ##"
      ]
    },
    {
      "cell_type": "markdown",
      "source": [
        "33 - Dada uma matriz numpy (matriz), como obter uma saída de matriz numpy que seja igual à matriz original multiplicada por um escalar?\n",
        "\n"
      ],
      "metadata": {
        "id": "fMG1cJENO-3y"
      }
    },
    {
      "cell_type": "code",
      "source": [
        "# Resolução Exercício 33\n",
        "import numpy as np\n",
        "\n",
        "mat1 = np.array([[1, 2], [3, 4]])\n",
        "mat2 = np.array([[5, 6], [7, 8]])\n",
        "\n",
        "mat = mat1 + mat2\n",
        "\n",
        "##print(\"\\n\\nFIM DO PROGRAMA!!!\")\n",
        "## EXERCÍCIO FUNCIONANDO! ##\n",
        "\n",
        "# A FINALIZAR!"
      ],
      "metadata": {
        "id": "qKxhGPAcPD3r"
      },
      "execution_count": null,
      "outputs": []
    },
    {
      "cell_type": "markdown",
      "source": [
        "34 - Crie uma função que retorne uma matriz identidade de dimensão N (parâmetro da função).\n"
      ],
      "metadata": {
        "id": "BvbPfnL-PYpI"
      }
    },
    {
      "cell_type": "code",
      "source": [
        "# Resolução Exercício 34\n",
        "import numpy as np\n",
        "\n",
        "def mat_Indentidade(mat):\n",
        "  matInv = np.linalg.inv(mat)   # Calcula Matriz Inversa\n",
        "  matInd = np.dot(mat, matInv)  # Calcula a Matriz Indentidade\n",
        "  print(\"Matrix A = \\n\",mat)\n",
        "  print(\"\\nMatriz A(-1) = \\n\", matInv)\n",
        "  print(\"\\nMatriz A * A(-1) = \\n\", matInd) \n",
        "\n",
        "mat_Indentidade(mat)\n",
        "\n",
        "print(\"\\n\\nFIM DO PROGRAMA!!!\")\n",
        "## EXERCÍCIO FUNCIONANDO! ##"
      ],
      "metadata": {
        "colab": {
          "base_uri": "https://localhost:8080/"
        },
        "id": "WEt8LYWWPfux",
        "outputId": "6ace3c9c-be3d-4f8e-df54-448f76924437"
      },
      "execution_count": 3,
      "outputs": [
        {
          "output_type": "stream",
          "name": "stdout",
          "text": [
            "Matrix A = \n",
            " [[ 6  8]\n",
            " [10 12]]\n",
            "\n",
            "Matriz A(-1) = \n",
            " [[-1.5   1.  ]\n",
            " [ 1.25 -0.75]]\n",
            "\n",
            "Matriz A * A(-1) = \n",
            " [[ 1.0000000e+00 -8.8817842e-16]\n",
            " [ 0.0000000e+00  1.0000000e+00]]\n",
            "\n",
            "\n",
            "FIM DO PROGRAMA!!!\n"
          ]
        }
      ]
    },
    {
      "cell_type": "markdown",
      "source": [
        "35 - Converta uma matriz 1-D em uma matriz 3D."
      ],
      "metadata": {
        "id": "9G7LOzlqPlJX"
      }
    },
    {
      "cell_type": "code",
      "source": [
        "# Resolução Exercício 35\n",
        "import numpy as np\n",
        "\n",
        "mat1D = np.array([1, 2, 3, 4, 5, 6, 7, 8, 9, 10, 11, 12]) # Matriz de uma dimensão\n",
        "mat3D = mat1D.reshape(2, 3, 2)  # Converte uma matriz 1D em uma matriz 3D\n",
        "print(mat3D)\n",
        "print('Forma da matriz: ', mat3D.shape)\n",
        "\n",
        "print(\"\\n\\nFIM DO PROGRAMA!!!\")\n",
        "## EXERCÍCIO FUNCIONANDO! ##"
      ],
      "metadata": {
        "colab": {
          "base_uri": "https://localhost:8080/"
        },
        "id": "XSbvkDT6Ppnt",
        "outputId": "0dd85cf2-db30-4362-9c8a-f3f3b6f4d6e3"
      },
      "execution_count": 4,
      "outputs": [
        {
          "output_type": "stream",
          "name": "stdout",
          "text": [
            "[[[ 1  2]\n",
            "  [ 3  4]\n",
            "  [ 5  6]]\n",
            "\n",
            " [[ 7  8]\n",
            "  [ 9 10]\n",
            "  [11 12]]]\n",
            "Forma da matriz:  (2, 3, 2)\n",
            "\n",
            "\n",
            "FIM DO PROGRAMA!!!\n"
          ]
        }
      ]
    },
    {
      "cell_type": "markdown",
      "source": [
        "36 - Empilhe 2 matrizes numpy horizontalmente, ou seja, 2 matrizes que têm a mesma primeira dimensão (número de linhas em matrizes 2D)."
      ],
      "metadata": {
        "id": "BsRSCsl8Ptu0"
      }
    },
    {
      "cell_type": "code",
      "source": [
        "# Resolução Exercício 36\n",
        "import numpy as np\n",
        "\n",
        "matA = np.array([[1, 2], \n",
        "                 [3, 4]])\n",
        "matB = np.array([[5, 6], \n",
        "                 [7, 8]])\n",
        "\n",
        "#matB = np.array([[5, 6], [7, 8],[9, 0]])\n",
        "\n",
        "\n",
        "print('Matriz A = \\n', matA)\n",
        "print('Matriz B = \\n', matB)\n",
        "\n",
        "if (len(matA) == len(matB)):\n",
        "  print(\"Matriz [A B] = \\n\", np.hstack((matA, matB)))\n",
        "else:\n",
        "  print('Matriz não pode ser empilhada na horizontal')\n",
        "  print('Dimensoes: A = ', len(matA))\n",
        "  print('Dimensoes: B = ', len(matB))\n",
        "\n",
        "print(\"\\n\\nFIM DO PROGRAMA!!!\")\n",
        "## EXERCÍCIO FUNCIONANDO! ##"
      ],
      "metadata": {
        "colab": {
          "base_uri": "https://localhost:8080/"
        },
        "id": "tRGQc1_xP3sO",
        "outputId": "12510aa2-f430-4753-d5ea-f060d0e2357f"
      },
      "execution_count": 5,
      "outputs": [
        {
          "output_type": "stream",
          "name": "stdout",
          "text": [
            "Matriz A = \n",
            " [[1 2]\n",
            " [3 4]]\n",
            "Matriz B = \n",
            " [[5 6]\n",
            " [7 8]]\n",
            "Matriz [A B] = \n",
            " [[1 2 5 6]\n",
            " [3 4 7 8]]\n",
            "\n",
            "\n",
            "FIM DO PROGRAMA!!!\n"
          ]
        }
      ]
    },
    {
      "cell_type": "markdown",
      "source": [
        "37 - De 2 arrays numpy, extraia os índices nos quais os elementos dos 2 arrays correspondem."
      ],
      "metadata": {
        "id": "wHvPWYwsP2XT"
      }
    },
    {
      "cell_type": "code",
      "source": [
        "# Resolução Exercício 37\n",
        "import numpy as np\n",
        "\n",
        "matA = np.array([[1, 2], \n",
        "                 [3, 4]])\n",
        "matB = np.array([[5, 6], \n",
        "                 [7, 8]])\n",
        "np.array_equal(matA, matB)\n",
        "\n",
        "\n",
        "#FALTA FINALIZAR"
      ],
      "metadata": {
        "colab": {
          "base_uri": "https://localhost:8080/"
        },
        "id": "IU3z8FXTQBPL",
        "outputId": "fe34a88b-8c7e-4128-b6bf-2582ef6e4159"
      },
      "execution_count": 7,
      "outputs": [
        {
          "output_type": "execute_result",
          "data": {
            "text/plain": [
              "False"
            ]
          },
          "metadata": {},
          "execution_count": 7
        }
      ]
    },
    {
      "cell_type": "markdown",
      "source": [
        "38 - Faça uma função que retorne uma sequência de N números igualmente espaçados no intervalo de 0 a 100 (ambos inclusive)."
      ],
      "metadata": {
        "id": "yVsUegccQTjj"
      }
    },
    {
      "cell_type": "code",
      "source": [
        "# Resolução Exercício 38\n",
        "import numpy as np\n",
        "\n",
        "def retornoNumero(N):\n",
        "  num = np.arange(0,101,N)\n",
        "  print(num)\n",
        "\n",
        "N = int(input(\"Digite espaçamento de números que inicia para uma sequencia de 0 a 100\\n\"))\n",
        "retornoNumero(N)\n",
        "\n",
        "print(\"\\n\\nFIM DO PROGRAMA!!!\")\n",
        "## EXERCÍCIO FUNCIONANDO! ##"
      ],
      "metadata": {
        "colab": {
          "base_uri": "https://localhost:8080/"
        },
        "id": "n7nJVoXqQXXk",
        "outputId": "272d3713-2be9-4ea5-f2cb-8831cbd4d0ec"
      },
      "execution_count": 9,
      "outputs": [
        {
          "output_type": "stream",
          "name": "stdout",
          "text": [
            "Digite espaçamento de números que inicia para uma sequencia de 0 a 100\n",
            "3\n",
            "[ 0  3  6  9 12 15 18 21 24 27 30 33 36 39 42 45 48 51 54 57 60 63 66 69\n",
            " 72 75 78 81 84 87 90 93 96 99]\n",
            "\n",
            "\n",
            "FIM DO PROGRAMA!!!\n"
          ]
        }
      ]
    },
    {
      "cell_type": "markdown",
      "source": [
        "39 - Calcule a média móvel do tamanho da janela 3, para a matriz 1D fornecida.\n",
        "\n",
        "Entrada:\n",
        "\n",
        "> np.random.seed(100)\n",
        "\n",
        "> Z = np.random.randint(10, tamanho=10)\n",
        "\n",
        "Resultado:"
      ],
      "metadata": {
        "id": "nKTrjtlZQyVi"
      }
    },
    {
      "cell_type": "code",
      "source": [
        "# Resolução Exercício 39\n",
        "import numpy as np\n",
        "\n",
        "N = 3 #Tamanho do filtro de Média Móvel\n",
        "np.random.seed(100)\n",
        "Z = np.random.randint(10, size=10)\n",
        "print('Matriz 1D = ',Z)\n",
        "print()\n",
        "\n",
        "for i in range(len(Z)-N+1): #Calcula Média Móvel\n",
        "  media = np.mean(Z[i:N+i])\n",
        "  print(Z[i:N+i])\n",
        "  print('Média da {}ª Amostra de uma Janela {}, com média = {:.2f} \\n'.format(i+1,N,media))\n",
        "\n",
        "print(\"\\n\\nFIM DO PROGRAMA!!!\")\n",
        "## EXERCÍCIO FUNCIONANDO! ##"
      ],
      "metadata": {
        "colab": {
          "base_uri": "https://localhost:8080/"
        },
        "id": "-4BYzp6IQ3ur",
        "outputId": "471f0df2-caea-40ad-9a65-9b664e461663"
      },
      "execution_count": 10,
      "outputs": [
        {
          "output_type": "stream",
          "name": "stdout",
          "text": [
            "Matriz 1D =  [8 8 3 7 7 0 4 2 5 2]\n",
            "\n",
            "[8 8 3]\n",
            "Média da 1ª Amostra de uma Janela 3, com média = 6.33 \n",
            "\n",
            "[8 3 7]\n",
            "Média da 2ª Amostra de uma Janela 3, com média = 6.00 \n",
            "\n",
            "[3 7 7]\n",
            "Média da 3ª Amostra de uma Janela 3, com média = 5.67 \n",
            "\n",
            "[7 7 0]\n",
            "Média da 4ª Amostra de uma Janela 3, com média = 4.67 \n",
            "\n",
            "[7 0 4]\n",
            "Média da 5ª Amostra de uma Janela 3, com média = 3.67 \n",
            "\n",
            "[0 4 2]\n",
            "Média da 6ª Amostra de uma Janela 3, com média = 2.00 \n",
            "\n",
            "[4 2 5]\n",
            "Média da 7ª Amostra de uma Janela 3, com média = 3.67 \n",
            "\n",
            "[2 5 2]\n",
            "Média da 8ª Amostra de uma Janela 3, com média = 3.00 \n",
            "\n",
            "\n",
            "\n",
            "FIM DO PROGRAMA!!!\n"
          ]
        }
      ]
    },
    {
      "cell_type": "markdown",
      "source": [
        "40 - Defina uma classe chamada fracao, contendo dois atributos, num e den, inicializados com valores quaisquer. No método de inicialização, os dois parâmeros passados serão armazenados nos respectivos atributos."
      ],
      "metadata": {
        "id": "IvvdIuWdQ8XD"
      }
    },
    {
      "cell_type": "code",
      "source": [
        "# Resolução Exercício 40\n",
        "class Fracao:\n",
        "  num = 0   # atributo publico\n",
        "  den = 0   # atributo publico\n",
        "  \n",
        "  def __init__(self, num, den):\n",
        "      print(\"Inicializando Fração!\")\n",
        "      self.num = num\n",
        "      self.den = den\n",
        "      \n",
        "\n",
        "fracao1 = Fracao(10,2)\n",
        "\n",
        "print(\"\\n\\nFIM DO PROGRAMA!!!\")\n",
        "## EXERCÍCIO FUNCIONANDO! ##"
      ],
      "metadata": {
        "colab": {
          "base_uri": "https://localhost:8080/"
        },
        "id": "S05dur-CRCin",
        "outputId": "20109af0-a579-459e-c4f8-eca6b7d5c7fd"
      },
      "execution_count": 11,
      "outputs": [
        {
          "output_type": "stream",
          "name": "stdout",
          "text": [
            "Inicializando Fração!\n",
            "\n",
            "\n",
            "FIM DO PROGRAMA!!!\n"
          ]
        }
      ]
    },
    {
      "cell_type": "markdown",
      "source": [
        "41 - Considerando a classe *Point* definida a seguir, crie um método **reflect_x** que retorno um novo objeto *Point* que é a reflexão do ponto no eixo $x$. Por exemplo, $Point(3,5).reflect_X()$ retorno o ponto $3,-5).\n",
        "```\n",
        "class Point:\n",
        "\n",
        "    def __init__(self, initX, initY):\n",
        "\n",
        "        self.x = initX\n",
        "        self.y = initY\n",
        "\n",
        "    def getX(self):\n",
        "        return self.x\n",
        "\n",
        "    def getY(self):\n",
        "        return self.y\n",
        "```"
      ],
      "metadata": {
        "id": "SnzyrhcMRyfe"
      }
    },
    {
      "cell_type": "code",
      "source": [
        "# Resolução Exercício 41\n",
        "class Point:\n",
        "\n",
        "  def __init__(self, initX, initY):\n",
        "    self.x = initX\n",
        "    self.y = initY\n",
        "\n",
        "  def getX(self):\n",
        "    return self.x\n",
        "\n",
        "  def getY(self):\n",
        "    return self.y\n",
        "\n",
        "  def reflect_x (self):\n",
        "    print('POINT({},{})'.format(self.x,self.y))\n",
        "\n",
        "P1 = Point(3,5)\n",
        "P1.reflect_x()\n",
        "\n",
        "print(\"\\n\\nFIM DO PROGRAMA!!!\")\n",
        "## EXERCÍCIO FUNCIONANDO! ##"
      ],
      "metadata": {
        "colab": {
          "base_uri": "https://localhost:8080/"
        },
        "id": "QCUFVBFARxtj",
        "outputId": "b5ac88d4-930f-4655-e02b-1ee88380d4ea"
      },
      "execution_count": 12,
      "outputs": [
        {
          "output_type": "stream",
          "name": "stdout",
          "text": [
            "POINT(3,5)\n",
            "\n",
            "\n",
            "FIM DO PROGRAMA!!!\n"
          ]
        }
      ]
    }
  ]
}