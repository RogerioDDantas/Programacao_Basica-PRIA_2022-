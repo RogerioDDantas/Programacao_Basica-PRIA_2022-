{
  "nbformat": 4,
  "nbformat_minor": 0,
  "metadata": {
    "colab": {
      "name": "LISTA 5 - Programación Básica_(PRIA2022).ipynb",
      "provenance": [],
      "authorship_tag": "ABX9TyMkOruySoVQ7ZIrpIUoLCJ5",
      "include_colab_link": true
    },
    "kernelspec": {
      "name": "python3",
      "display_name": "Python 3"
    },
    "language_info": {
      "name": "python"
    }
  },
  "cells": [
    {
      "cell_type": "markdown",
      "metadata": {
        "id": "view-in-github",
        "colab_type": "text"
      },
      "source": [
        "<a href=\"https://colab.research.google.com/github/RogerioDDantas/Programacao_Basica-PRIA_2022-/blob/main/LISTA_5_Programaci%C3%B3n_B%C3%A1sica_(PRIA2022).ipynb\" target=\"_parent\"><img src=\"https://colab.research.google.com/assets/colab-badge.svg\" alt=\"Open In Colab\"/></a>"
      ]
    },
    {
      "cell_type": "markdown",
      "source": [
        "ALUNO: Rogério Daniel Dantas\n",
        "\n",
        "Disciplina: Programación Básica_(PRIA2022)\n",
        "\n",
        "LISTA 5:\n",
        "\n",
        "\n",
        "RESOLUÇÃO DOS EXERCÍCIOS:\n"
      ],
      "metadata": {
        "id": "fwHvMFhlSgey"
      }
    },
    {
      "cell_type": "markdown",
      "source": [
        "41 - Considerando a classe *Point* definida a seguir, crie um método **reflect_x** que retorno um novo objeto *Point* que é a reflexão do ponto no eixo $x$. Por exemplo, $Point(3,5).reflect_X()$ retorno o ponto $3,-5).\n",
        "```\n",
        "class Point:\n",
        "\n",
        "    def __init__(self, initX, initY):\n",
        "\n",
        "        self.x = initX\n",
        "        self.y = initY\n",
        "\n",
        "    def getX(self):\n",
        "        return self.x\n",
        "\n",
        "    def getY(self):\n",
        "        return self.y\n",
        "```"
      ],
      "metadata": {
        "id": "WU7lWPeyTNGe"
      }
    },
    {
      "cell_type": "code",
      "execution_count": 1,
      "metadata": {
        "colab": {
          "base_uri": "https://localhost:8080/"
        },
        "id": "hmcaK6PaSbjV",
        "outputId": "ac62cc6d-7656-45f7-8ea0-4e838c40ed88"
      },
      "outputs": [
        {
          "output_type": "stream",
          "name": "stdout",
          "text": [
            "POINT(3,5)\n",
            "\n",
            "\n",
            "FIM DO PROGRAMA!!!\n"
          ]
        }
      ],
      "source": [
        "# Resolução Exercício 41\n",
        "class Point:\n",
        "\n",
        "  def __init__(self, initX, initY):\n",
        "    self.x = initX\n",
        "    self.y = initY\n",
        "\n",
        "  def getX(self):\n",
        "    return self.x\n",
        "\n",
        "  def getY(self):\n",
        "    return self.y\n",
        "\n",
        "  def reflect_x (self):\n",
        "    print('POINT({},{})'.format(self.x,self.y))\n",
        "\n",
        "P1 = Point(3,5)\n",
        "P1.reflect_x()\n",
        "\n",
        "print(\"\\n\\nFIM DO PROGRAMA!!!\")\n",
        "## EXERCÍCIO FUNCIONANDO! ##"
      ]
    },
    {
      "cell_type": "markdown",
      "source": [
        "42 - Ainda considerando a classe Point, implemente os seguintes métodos:\n",
        "\n",
        "*   slope_from_origin(): retorna a inclinação da linha que liga o ponto à origem\n",
        "\n",
        "   "
      ],
      "metadata": {
        "id": "4afJiABCTXVN"
      }
    },
    {
      "cell_type": "code",
      "source": [
        "# Resolução Exercício 42\n",
        "\n",
        "class Point:\n",
        "\n",
        "  def __init__(self, initX, initY):\n",
        "    self.x = initX\n",
        "    self.y = initY\n",
        "\n",
        "  def getX(self):\n",
        "    return self.x\n",
        "\n",
        "  def getY(self):\n",
        "    return self.y\n",
        "\n",
        "  def reflect_x (self):\n",
        "    print('POINT({},{})'.format(self.x,self.y))\n",
        "\n",
        "  def inclinacao(self):\n",
        "    incl = (self.y) / (self.x)\n",
        "    return incl\n",
        "\n",
        "P1 = Point(3,5)\n",
        "P1.reflect_x()\n",
        "print('Inclinação = {:.2f}'.format(P1.inclinacao()))\n",
        "\n",
        "print(\"\\n\\nFIM DO PROGRAMA!!!\")\n",
        "## EXERCÍCIO FUNCIONANDO! ##"
      ],
      "metadata": {
        "colab": {
          "base_uri": "https://localhost:8080/"
        },
        "id": "Eg8judTsTdSa",
        "outputId": "03ed1436-d395-486b-de1e-6a04dd4c581b"
      },
      "execution_count": 2,
      "outputs": [
        {
          "output_type": "stream",
          "name": "stdout",
          "text": [
            "POINT(3,5)\n",
            "Inclinação = 1.67\n",
            "\n",
            "\n",
            "FIM DO PROGRAMA!!!\n"
          ]
        }
      ]
    },
    {
      "cell_type": "markdown",
      "source": [
        "43 - Seja $y = ax + b$ a equação de uma reta. Escreva um método na classe *Point* que recebe outra instância de *Point* e calcula a equacão da reta entre esses dois pontos. O método deve retornar os dois coeficientes na forma de uma tupla com dois valores, correspondentes aos coeficientes da equação."
      ],
      "metadata": {
        "id": "8WWuH4PpTkNO"
      }
    },
    {
      "cell_type": "code",
      "source": [
        "# Resolução Exercício 43\n",
        "class Point:\n",
        "\n",
        "  def __init__(self, initX, initY):\n",
        "    self.x = initX\n",
        "    self.y = initY\n",
        "\n",
        "  def getX(self):\n",
        "    return self.x\n",
        "\n",
        "  def getY(self):\n",
        "    return self.y\n",
        "\n",
        "  def reflect_x (self):\n",
        "    print('POINT({},{})'.format(self.x,self.y))\n",
        "\n",
        "  def inclinacao(self):\n",
        "    incl = (self.y) / (self.x)\n",
        "    return incl\n",
        "\n",
        "P1 = Point(3,5)\n",
        "P1.reflect_x()\n",
        "P2 = Point(5,3)\n",
        "P2.reflect_x()\n",
        "print('Inclinação = {:.2f}'.format(P1.inclinacao()))\n",
        "print('Inclinação = {:.2f}'.format(P2.inclinacao()))\n",
        "#print(\"\\n\\nFIM DO PROGRAMA!!!\")\n",
        "## EXERCÍCIO FUNCIONANDO! ##\n"
      ],
      "metadata": {
        "colab": {
          "base_uri": "https://localhost:8080/"
        },
        "id": "sxATk5RWTqNg",
        "outputId": "0ce153b4-98f3-4ccb-ec6c-e054652d2bc4"
      },
      "execution_count": 3,
      "outputs": [
        {
          "output_type": "stream",
          "name": "stdout",
          "text": [
            "POINT(3,5)\n",
            "POINT(5,3)\n",
            "Inclinação = 1.67\n",
            "Inclinação = 0.60\n"
          ]
        }
      ]
    }
  ]
}