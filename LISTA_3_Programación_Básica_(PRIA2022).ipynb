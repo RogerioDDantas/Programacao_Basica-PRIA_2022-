{
  "nbformat": 4,
  "nbformat_minor": 0,
  "metadata": {
    "colab": {
      "name": "LISTA 3 - Programación Básica_(PRIA2022).ipynb",
      "provenance": [],
      "authorship_tag": "ABX9TyMnNLkFAkD3bp4yZD77rPmm",
      "include_colab_link": true
    },
    "kernelspec": {
      "name": "python3",
      "display_name": "Python 3"
    },
    "language_info": {
      "name": "python"
    }
  },
  "cells": [
    {
      "cell_type": "markdown",
      "metadata": {
        "id": "view-in-github",
        "colab_type": "text"
      },
      "source": [
        "<a href=\"https://colab.research.google.com/github/RogerioDDantas/Programacao_Basica-PRIA_2022-/blob/main/LISTA_3_Programaci%C3%B3n_B%C3%A1sica_(PRIA2022).ipynb\" target=\"_parent\"><img src=\"https://colab.research.google.com/assets/colab-badge.svg\" alt=\"Open In Colab\"/></a>"
      ]
    },
    {
      "cell_type": "markdown",
      "source": [
        "ALUNO: Rogério Daniel Dantas\n",
        "\n",
        "Disciplina: Programación Básica_(PRIA2022)\n",
        "\n",
        "LISTA 3:\n",
        "\n"
      ],
      "metadata": {
        "id": "p7iu_6dMmQnT"
      }
    },
    {
      "cell_type": "markdown",
      "source": [
        "RESOLUÇÃO DOS EXERCÍCIOS:\n"
      ],
      "metadata": {
        "id": "tpoArMY6mU89"
      }
    },
    {
      "cell_type": "markdown",
      "source": [
        "24 - Uma pista de Kart permite 10 voltas para cada um de 6 corredores. Escreva um programa que leia todos os tempos em segundos e os guarde em um dicionário, onde a chave é o nome do corredor. Ao final diga de quem foi a melhor volta da prova e em que volta; e ainda a classificação final em ordem (1o o campeão). O campeão é o que tem a menor média de tempos. "
      ],
      "metadata": {
        "id": "BS_5mtYFnjer"
      }
    },
    {
      "cell_type": "code",
      "source": [
        "# Resolução Exercício 24 (Teste de Funcionamento)\n",
        "import random\n",
        "import math\n",
        "\n",
        "tomadas_tempo = {}\n",
        "tmp = 0\n",
        "tmpMin = 30\n",
        "tmpTotal = 0\n",
        "MelhorVolta = {}\n",
        "\n",
        "for i in range(6):\n",
        "  nome = input(\"Digite o nome do Piloto \" +str(i+1)+ \": \" )\n",
        "  tmpTotal = 0\n",
        "  n = []\n",
        "  for x in range(10):\n",
        "    tmp = round(random.uniform(10.0, 30.09),2)\n",
        "    n.append(tmp)\n",
        "    tomadas_tempo[nome] = n     #Add nomes com notas no Dicionário\n",
        "    tmpTotal = tmpTotal + tmp\n",
        "\n",
        "    # Seleciona a melhor volta de todos os pilotos\n",
        "    if (tmp < tmpMin):      \n",
        "      tmpMin = tmp                                  # tempo da menor volta\n",
        "      volta = x                                     # Número da melhor volta     \n",
        "      nomeMelhor = nome                             # Nome do piloto\n",
        "      melhorVolta = {nome: [tmpMin, volta]}\n",
        "\n",
        "print(tomadas_tempo.items()) #Imprime todas os valores de tempos das voltas\n",
        "print(\"\\n{'Nome': [Tempo, Numero da Volta]}\\n\")\n",
        "print(melhorVolta)\n",
        "\n",
        "# Realiza a soma dos tempos de cada piloto\n",
        "for k, v in tomadas_tempo.items():\n",
        "  tomadas_tempo[k] = sum(v)\n",
        "\n",
        "print(\"\\nClassificação geral com tempo total\")\n",
        "\n",
        "# Imprime a classificação geral\n",
        "x = 1\n",
        "print(\"Posição | Nome | Tempo\")\n",
        "for i in sorted(tomadas_tempo, key = tomadas_tempo.get):\n",
        "    print(x, i, \"%.2f\" %tomadas_tempo[i])\n",
        "    x = x + 1\n",
        "\n",
        "print(\"\\n\\nFIM DO PROGRAMA!!!\")\n",
        "## EXERCÍCIO FUNCIONANDO! ##"
      ],
      "metadata": {
        "colab": {
          "base_uri": "https://localhost:8080/"
        },
        "id": "NzHOMJ8NnpqO",
        "outputId": "30be0771-3e1c-4739-b13a-1406cd25b42d"
      },
      "execution_count": 5,
      "outputs": [
        {
          "output_type": "stream",
          "name": "stdout",
          "text": [
            "Digite o nome do Piloto 1: Alex\n",
            "Digite o nome do Piloto 2: Marcos\n",
            "Digite o nome do Piloto 3: Ana\n",
            "Digite o nome do Piloto 4: Maria\n",
            "Digite o nome do Piloto 5: Fernando\n",
            "Digite o nome do Piloto 6: Cristiane\n",
            "dict_items([('Alex', [13.07, 22.07, 16.44, 27.67, 26.27, 20.02, 22.21, 20.84, 27.36, 14.92]), ('Marcos', [26.88, 21.71, 29.48, 21.16, 26.25, 15.84, 16.08, 21.91, 23.71, 26.28]), ('Ana', [14.25, 18.09, 17.09, 23.28, 20.67, 20.35, 16.51, 18.17, 15.89, 10.19]), ('Maria', [28.3, 17.43, 11.66, 30.03, 18.56, 15.73, 17.25, 27.94, 10.15, 18.64]), ('Fernando', [16.17, 28.25, 27.35, 29.8, 13.92, 11.98, 23.5, 21.92, 29.98, 18.07]), ('Cristiane', [16.55, 20.96, 21.76, 16.19, 11.92, 10.31, 20.41, 24.93, 18.11, 10.84])])\n",
            "\n",
            "{'Nome': [Tempo, Numero da Volta]}\n",
            "\n",
            "{'Maria': [10.15, 8]}\n",
            "\n",
            "Classificação geral com tempo total\n",
            "Posição | Nome | Tempo\n",
            "1 Cristiane 171.98\n",
            "2 Ana 174.49\n",
            "3 Maria 195.69\n",
            "4 Alex 210.87\n",
            "5 Fernando 220.94\n",
            "6 Marcos 229.30\n",
            "\n",
            "\n",
            "FIM DO PROGRAMA!!!\n"
          ]
        }
      ]
    },
    {
      "cell_type": "markdown",
      "source": [
        "25 - Faça um programa que solicite a entrada de N trabalhos de um aluno até que o usuário digite -1. O programa deve calcular e apresentar (através de uma função): a média final e o número de trabalhos inscritos."
      ],
      "metadata": {
        "id": "A9bzh3tRn12A"
      }
    },
    {
      "cell_type": "code",
      "source": [
        "# Resolução Exercício 25\n",
        "def media_trabalhos(notas, n_trabalhos):\n",
        "  print(\"Trabalhos feitos: \",n_trabalhos)\n",
        "  print(\"A nota media dos trabalho é de: \", sum(notas)/n_trabalhos)\n",
        "\n",
        "n_trabalhos = 0\n",
        "notas = []\n",
        "\n",
        "while(True):\n",
        "  nota = float(input(\"Digite a \" +str(n_trabalhos + 1)+ \"ª nota do trabalho:\\n\"))\n",
        "  \n",
        "  if (nota == -1): # Se string nome vazia finaliza o programa\n",
        "    break\n",
        "  \n",
        "  n_trabalhos = n_trabalhos + 1\n",
        "  notas.append(nota) #add o valor da nota no vetor notas\n",
        "\n",
        "# Chama a função de calculo da média e imprime  \n",
        "media_trabalhos(notas, n_trabalhos)\n",
        "\n",
        "print(\"\\n\\nFIM DO PROGRAMA!!!\")\n",
        "## EXERCÍCIO FUNCIONANDO! ##"
      ],
      "metadata": {
        "colab": {
          "base_uri": "https://localhost:8080/"
        },
        "id": "nqMCkdrdn6hE",
        "outputId": "6067ee43-927d-47ae-d0d1-11b299a9101e"
      },
      "execution_count": 6,
      "outputs": [
        {
          "output_type": "stream",
          "name": "stdout",
          "text": [
            "Digite a 1ª nota do trabalho:\n",
            "10\n",
            "Digite a 2ª nota do trabalho:\n",
            "7.6\n",
            "Digite a 3ª nota do trabalho:\n",
            "4.5\n",
            "Digite a 4ª nota do trabalho:\n",
            "8\n",
            "Digite a 5ª nota do trabalho:\n",
            "5.6\n",
            "Digite a 6ª nota do trabalho:\n",
            "-1\n",
            "Trabalhos feitos:  5\n",
            "A nota media dos trabalho é de:  7.140000000000001\n",
            "\n",
            "\n",
            "FIM DO PROGRAMA!!!\n"
          ]
        }
      ]
    },
    {
      "cell_type": "markdown",
      "source": [
        "26 - Faça um programa que receba as coordenadas x e y de tres pontos, e a partir de uma função calcule a distância entre os pontos. Em uma outra função, verifique se os 3 pontos estão alinhados no plano 2D."
      ],
      "metadata": {
        "id": "kphde5x2oJ95"
      }
    },
    {
      "cell_type": "code",
      "source": [
        "# Resolução Exercício 26\n",
        "import math\n",
        "\n",
        "def distancia(x,y): # Função Calcula a distância entre os pontos\n",
        "  dAB = math.sqrt(math.pow(x[1] - x[0],2) + math.pow(y[1]-y[0],2))\n",
        "  dBC = math.sqrt(math.pow(x[2] - x[1],2) + math.pow(y[2]-y[1],2))\n",
        "  dCA = math.sqrt(math.pow(x[0] - x[2],2) + math.pow(y[0]-y[2],2))\n",
        "  print(f\"\\nSegmento AB = {dAB: .2f}\")\n",
        "  print(f\"Segmento BC = {dBC: .2f}\")\n",
        "  print(f\"Segmento CA = {dCA: .2f}\")\n",
        "\n",
        "def alimanhamento (x,y): # Função Calcula Determinante para saber alinhamento\n",
        "  print(\"\\nMatriz determinante\")\n",
        "  print(x[0], y[0], 1, x[0], y[0])\n",
        "  print(x[1], y[1], 1, x[1], y[1])\n",
        "  print(x[2], y[2], 1, x[2], y[2])\n",
        "  \n",
        "  determinante = ((x[0]*y[1]*1 + y[0]*1*x[2] + 1*x[1]*y[2])) - ((1*y[1]*x[2] + x[0]*1*y[2] + y[0]*x[1]*1))\n",
        "  if (determinante == 0): # Verifica se os pontos estão alinhados\n",
        "    print(\"Os três pontos estão alinhados!\")\n",
        "  else:\n",
        "    print(\"Os pontos NÃO estão alinhados!\")\n",
        "  \n",
        "  print(\"Determinante = \", determinante)\n",
        "\n",
        "x = []\n",
        "y = []\n",
        "\n",
        "# Realiza a leitura das coordenadas do triângulo\n",
        "for i in range(0, 3):\n",
        "    #Exemplos de coordenadas AB(2,2); BC(-4,-6); CA(4,-12) - Triângulo\n",
        "    coordx = int(input(f'Digite a coordenada x{i+1}: '))\n",
        "    coordy = int(input(f'Digite a coordenada y{i+1}: '))\n",
        "    x.append(coordx)\n",
        "    y.append(coordy)\n",
        "    print(f\"Coordenada P{i+1}: ({coordx},{coordy})\")\n",
        "\n",
        "# Chama função de calculo das distâncias entre os pontos\n",
        "distancia(x,y)\n",
        "\n",
        "# Chama função de verificação do alinhamento dos pontos\n",
        "alimanhamento(x,y)\n",
        "\n",
        "print(\"\\n\\nFIM DO PROGRAMA!!!\")\n",
        "## EXERCÍCIO FUNCIONANDO! ##"
      ],
      "metadata": {
        "colab": {
          "base_uri": "https://localhost:8080/"
        },
        "id": "y8uikbfEoOg_",
        "outputId": "26a2371c-4f7c-4bf5-a267-e2cffbe9aed0"
      },
      "execution_count": 7,
      "outputs": [
        {
          "output_type": "stream",
          "name": "stdout",
          "text": [
            "Digite a coordenada x1: 1\n",
            "Digite a coordenada y1: 1\n",
            "Coordenada P1: (1,1)\n",
            "Digite a coordenada x2: 3\n",
            "Digite a coordenada y2: 4\n",
            "Coordenada P2: (3,4)\n",
            "Digite a coordenada x3: 8\n",
            "Digite a coordenada y3: 3\n",
            "Coordenada P3: (8,3)\n",
            "\n",
            "Segmento AB =  3.61\n",
            "Segmento BC =  5.10\n",
            "Segmento CA =  7.28\n",
            "\n",
            "Matriz determinante\n",
            "1 1 1 1 1\n",
            "3 4 1 3 4\n",
            "8 3 1 8 3\n",
            "Os pontos NÃO estão alinhados!\n",
            "Determinante =  -17\n",
            "\n",
            "\n",
            "FIM DO PROGRAMA!!!\n"
          ]
        }
      ]
    },
    {
      "cell_type": "markdown",
      "source": [
        "27 - Faça um programa que, a partir de uma função que receba 3 números, retorne os 3 números ordem crescente."
      ],
      "metadata": {
        "id": "V7nTRJmsoYeQ"
      }
    },
    {
      "cell_type": "code",
      "source": [
        "# Resolução Exercício 27\n",
        "def ordena_numeros(numeros):\n",
        "  print(\"Números Ordenados: \",sorted(numeros))\n",
        "  \n",
        "numeros = []\n",
        "\n",
        "for i in range(3):\n",
        "  numeros.append(float(input(\"Digite o \" +str(i + 1)+ \"º numero:\\n\")))\n",
        "\n",
        "#Chama a função de Ordenação de Números\n",
        "ordena_numeros(numeros)  \n",
        "\n",
        "print(\"\\n\\nFIM DO PROGRAMA!!!\")\n",
        "## EXERCÍCIO FUNCIONANDO! ##"
      ],
      "metadata": {
        "colab": {
          "base_uri": "https://localhost:8080/"
        },
        "id": "KIDfAVPSoc67",
        "outputId": "7784dea4-873e-4a56-e4ac-3d7daff1387d"
      },
      "execution_count": 8,
      "outputs": [
        {
          "output_type": "stream",
          "name": "stdout",
          "text": [
            "Digite o 1º numero:\n",
            "12\n",
            "Digite o 2º numero:\n",
            "34\n",
            "Digite o 3º numero:\n",
            "3\n",
            "Números Ordenados:  [3.0, 12.0, 34.0]\n",
            "\n",
            "\n",
            "FIM DO PROGRAMA!!!\n"
          ]
        }
      ]
    },
    {
      "cell_type": "markdown",
      "source": [
        "28 - Faça uma função que retorne o reverso de um número inteiro informado. Por exemplo: 127 -> 721."
      ],
      "metadata": {
        "id": "6oaUjMsIonvf"
      }
    },
    {
      "cell_type": "code",
      "source": [
        "# Resolução Exercício 28\n",
        "def inverte_numero(numero):\n",
        "  numeroInvertido = int(str(numero)[::-1]);\n",
        "  print('O reverso do numero {} é: {}!'.format(numero, numeroInvertido))\n",
        "\n",
        "numero = int(input(\"Digite o um numero:\\n\"))\n",
        "\n",
        "#Chama a função de revero número\n",
        "inverte_numero(numero)\n",
        "\n",
        "print(\"\\n\\nFIM DO PROGRAMA!!!\")\n",
        "## EXERCÍCIO FUNCIONANDO! ##"
      ],
      "metadata": {
        "colab": {
          "base_uri": "https://localhost:8080/"
        },
        "id": "JmdRpcopormx",
        "outputId": "ff140450-5f20-4cef-af05-0ca0d32480c4"
      },
      "execution_count": 9,
      "outputs": [
        {
          "output_type": "stream",
          "name": "stdout",
          "text": [
            "Digite o um numero:\n",
            "23\n",
            "O reverso do numero 23 é: 32!\n",
            "\n",
            "\n",
            "FIM DO PROGRAMA!!!\n"
          ]
        }
      ]
    },
    {
      "cell_type": "markdown",
      "source": [
        "29 - Data com mês por extenso. Construa uma função que receba uma data no formato DD/MM/AAAA e devolva uma string no formato D de mes por extenso de AAAA. Opcionalmente, valide a data e retorne NULL caso a data seja inválida."
      ],
      "metadata": {
        "id": "Wk5bZpj1oq4a"
      }
    },
    {
      "cell_type": "code",
      "source": [
        "# Resolução Exercício 29\n",
        "\n",
        "\n",
        "\n",
        "\n",
        "# A resolver!!!!!!!!!"
      ],
      "metadata": {
        "id": "tRKd-i9Fo3sH"
      },
      "execution_count": null,
      "outputs": []
    },
    {
      "cell_type": "markdown",
      "source": [
        "30 - Faça uma função que receba uma lista de números armazenados de forma crescente, e dois valores ( limite inferior e limite superior), e exiba a sublista cujos elementos são maiores ou iguais ao limite inferior e menores ou iguais ao limite superior. \n",
        "Exemplo:\n",
        "\n",
        "lista inicial=[12,14,15,16,18,20,24,26,28,32,34,38]\n",
        "\n",
        "limite inferior=13\n",
        "\n",
        "limite superior=26\n",
        "\n",
        "lista exibida: [14,15,16,18,20,24,26]"
      ],
      "metadata": {
        "id": "SzVao1T9o72I"
      }
    },
    {
      "cell_type": "code",
      "source": [
        "# Resolução Exercício 30\n",
        "def lista_numeros(listaInicial, limSuperior, limInferior):\n",
        "  print(\"Lista de numeros Ordenada:\", sorted(listaInicial))\n",
        "  sublista = []\n",
        "  for item in listaInicial:\n",
        "    if (limInferior <= item <= limSuperior):\n",
        "      sublista.append(item)\n",
        "  print(sublista)\n",
        "\n",
        "listaInicial = [98, 9, 12, 34, 2, 11, 39, 1, 88, 10, 3, 54, 77, 21]\n",
        "limInferior = 10\n",
        "limSuperior = 45\n",
        "\n",
        "#Chama a função\n",
        "lista_numeros(listaInicial, limSuperior, limInferior)\n",
        "\n",
        "print(\"\\n\\nFIM DO PROGRAMA!!!\")\n",
        "## EXERCÍCIO FUNCIONANDO! ##"
      ],
      "metadata": {
        "colab": {
          "base_uri": "https://localhost:8080/"
        },
        "id": "J74Uawa-o_Ap",
        "outputId": "bba0f8fc-3afc-4b47-b8a8-4de2ab0871b5"
      },
      "execution_count": 10,
      "outputs": [
        {
          "output_type": "stream",
          "name": "stdout",
          "text": [
            "Lista de numeros Ordenada: [1, 2, 3, 9, 10, 11, 12, 21, 34, 39, 54, 77, 88, 98]\n",
            "[12, 34, 11, 39, 10, 21]\n",
            "\n",
            "\n",
            "FIM DO PROGRAMA!!!\n"
          ]
        }
      ]
    },
    {
      "cell_type": "markdown",
      "source": [
        "31 - Faça uma função que receba dois números A e B. Verifique se A possui divisão inteira por B, caso não seja, troque os valores de A por B e de B por A, e verifique novamente se são divisíveis."
      ],
      "metadata": {
        "id": "hc4zVlWLOMiH"
      }
    },
    {
      "cell_type": "code",
      "source": [
        "# Resolução Exercício 31\n",
        "def div_numero(numA, numB):\n",
        "  if(numA % numB == 0):\n",
        "    print('O numero A = {} é divisivel por B = {}!'.format(numA, numB))\n",
        "    print('Resto da divisão é:',numA%numB)\n",
        "  else:\n",
        "    if (numB % numA == 0):\n",
        "      print('O numero B = {} é divisivel por A = {}!'.format(numB, numA))\n",
        "      print('Resto da divisão é:',numB%numA)\n",
        "    else:\n",
        "      print('Os numeros não são divisiveis!')\n",
        "      print('Resto da divisão é:', numB % numA)\n",
        "    \n",
        "#Chama a função 1x\n",
        "div_numero(100, 20)\n",
        "\n",
        "#Chama a função 2x\n",
        "div_numero(10, 200)\n",
        "\n",
        "#Chama a função 3x\n",
        "div_numero(100, 30)\n",
        "\n",
        "print(\"\\n\\nFIM DO PROGRAMA!!!\")\n",
        "## EXERCÍCIO FUNCIONANDO! ##"
      ],
      "metadata": {
        "colab": {
          "base_uri": "https://localhost:8080/"
        },
        "id": "UPbgF2iPOSjV",
        "outputId": "8d2eb731-b5cf-4e02-edd2-07b00bddca80"
      },
      "execution_count": 1,
      "outputs": [
        {
          "output_type": "stream",
          "name": "stdout",
          "text": [
            "O numero A = 100 é divisivel por B = 20!\n",
            "Resto da divisão é: 0\n",
            "O numero B = 200 é divisivel por A = 10!\n",
            "Resto da divisão é: 0\n",
            "Os numeros não são divisiveis!\n",
            "Resto da divisão é: 30\n",
            "\n",
            "\n",
            "FIM DO PROGRAMA!!!\n"
          ]
        }
      ]
    }
  ]
}