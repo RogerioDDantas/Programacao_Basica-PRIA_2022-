{
  "nbformat": 4,
  "nbformat_minor": 0,
  "metadata": {
    "colab": {
      "name": "LISTA_2_Programación_Básica_(PRIA2022).ipynb",
      "provenance": [],
      "collapsed_sections": [],
      "authorship_tag": "ABX9TyM1LAsrnD7UPmtewoFHn4E8",
      "include_colab_link": true
    },
    "kernelspec": {
      "name": "python3",
      "display_name": "Python 3"
    },
    "language_info": {
      "name": "python"
    }
  },
  "cells": [
    {
      "cell_type": "markdown",
      "metadata": {
        "id": "view-in-github",
        "colab_type": "text"
      },
      "source": [
        "<a href=\"https://colab.research.google.com/github/RogerioDDantas/Programacao_Basica-PRIA_2022-/blob/main/LISTA_2_Programaci%C3%B3n_B%C3%A1sica_(PRIA2022).ipynb\" target=\"_parent\"><img src=\"https://colab.research.google.com/assets/colab-badge.svg\" alt=\"Open In Colab\"/></a>"
      ]
    },
    {
      "cell_type": "markdown",
      "source": [
        "ALUNO: Rogério Daniel Dantas\n",
        "\n",
        "Disciplina: Programación Básica_(PRIA2022)\n",
        "\n",
        "LISTA 2:\n",
        "\n"
      ],
      "metadata": {
        "id": "zdk1rDIYNVc4"
      }
    },
    {
      "cell_type": "markdown",
      "source": [
        "RESOLUÇÃO DOS EXERCÍCIOS:\n",
        "\n",
        "11 - Faça um programa que leia dois vetores de 3 posições, que representam forças sobre um ponto no espaço 3D, e escreva a força resultante sobre esse ponto. A força resultante é obtida pela soma dos valores das coordenadas correspondentes nos dois vetores: (x1 + x2), (y1+ y2), (z1 + z2)."
      ],
      "metadata": {
        "id": "yezmzwLqNaXF"
      }
    },
    {
      "cell_type": "code",
      "source": [
        "# Resolução Exercício 11\n",
        "forca1 = []\n",
        "forca2 =[]\n",
        "\n",
        "#preenche o vetor\n",
        "for i in range(3):\n",
        "  forca1.append(int(input('Dgite a coordadenada ' + str(i) + ' do vetor 1:')))\n",
        "  forca2.append(int(input('Dgite a coordadenada ' + str(i) + ' do vetor 2:')))\n",
        "\n",
        "print('\\nA força resultante será:\\n' + str(forca1[0]+forca2[0]) +'x\\n' + str(forca1[1]+forca2[1]) +'y\\n' + str(forca1[2]+forca2[2]) +'z\\n')\n",
        "\n",
        "print(\"\\n\\nFIM DO PROGRAMA!!!\")\n",
        "## EXERCÍCIO FUNCIONANDO! ##"
      ],
      "metadata": {
        "colab": {
          "base_uri": "https://localhost:8080/"
        },
        "id": "FZ6r9-q8NZH6",
        "outputId": "a8b2ceee-81ed-41fe-a29e-408ea5fe6f07"
      },
      "execution_count": 1,
      "outputs": [
        {
          "output_type": "stream",
          "name": "stdout",
          "text": [
            "Dgite a coordadenada 0 do vetor 1:1\n",
            "Dgite a coordadenada 0 do vetor 2:2\n",
            "Dgite a coordadenada 1 do vetor 1:3\n",
            "Dgite a coordadenada 1 do vetor 2:4\n",
            "Dgite a coordadenada 2 do vetor 1:5\n",
            "Dgite a coordadenada 2 do vetor 2:6\n",
            "\n",
            "A força resultante será:\n",
            "3x\n",
            "7y\n",
            "11z\n",
            "\n",
            "\n",
            "\n",
            "FIM DO PROGRAMA!!!\n"
          ]
        }
      ]
    },
    {
      "cell_type": "markdown",
      "source": [
        "12 - Faça um programa que preencha por leitura um vetor de 10 posições, e conta quantos valores diferentes existem no vetor."
      ],
      "metadata": {
        "id": "u7A9fArwN5Y2"
      }
    },
    {
      "cell_type": "code",
      "source": [
        "# Resolução Exercício 12\n",
        "vetor = []\n",
        "n = 1\n",
        "\n",
        "for i in range(10):\n",
        "  vetor.append(input(\"Digite o valor para o vetor da posição \" +str(i)+ ':\\n'))\n",
        "\n",
        "vetOrd = sorted(vetor)\n",
        "print(vetOrd)\n",
        "\n",
        "for i in range(len(vetor) - 1):  \n",
        "  if (vetOrd[i] != vetOrd[i+1]):\n",
        "    n = n + 1;\n",
        "\n",
        "if n>1: \n",
        "  print('Existe(m) '+str(n)+ \" valor(es) diferente(s) no vetor\")\n",
        "else:\n",
        "  print(\"Não existe nenhum valor diferente neste vetor\")\n",
        "\n",
        "print(\"\\n\\nFIM DO PROGRAMA!!!\")\n",
        "## EXERCÍCIO FUNCIONANDO! ##"
      ],
      "metadata": {
        "colab": {
          "base_uri": "https://localhost:8080/"
        },
        "id": "azTnABVrOAKi",
        "outputId": "22e37732-71b9-41ef-c9e4-d5405e6f7e3c"
      },
      "execution_count": 2,
      "outputs": [
        {
          "output_type": "stream",
          "name": "stdout",
          "text": [
            "Digite o valor para o vetor da posição 0:\n",
            "1\n",
            "Digite o valor para o vetor da posição 1:\n",
            "2\n",
            "Digite o valor para o vetor da posição 2:\n",
            "3\n",
            "Digite o valor para o vetor da posição 3:\n",
            "4\n",
            "Digite o valor para o vetor da posição 4:\n",
            "2\n",
            "Digite o valor para o vetor da posição 5:\n",
            "3\n",
            "Digite o valor para o vetor da posição 6:\n",
            "5\n",
            "Digite o valor para o vetor da posição 7:\n",
            "7\n",
            "Digite o valor para o vetor da posição 8:\n",
            "7\n",
            "Digite o valor para o vetor da posição 9:\n",
            "6\n",
            "['1', '2', '2', '3', '3', '4', '5', '6', '7', '7']\n",
            "Existe(m) 7 valor(es) diferente(s) no vetor\n",
            "\n",
            "\n",
            "FIM DO PROGRAMA!!!\n"
          ]
        }
      ]
    },
    {
      "cell_type": "markdown",
      "source": [
        "13 - Faça um programa que preencha por leitura um vetor de 5 posições, e informe a posição em que um valor x (lido do teclado) está no vetor. Caso o valor x não seja encontrado, o programa deve imprimir o valor -1."
      ],
      "metadata": {
        "id": "DPzj10z6ONOc"
      }
    },
    {
      "cell_type": "code",
      "source": [
        "# Resolução Exercício 13\n",
        "vetor = []\n",
        "\n",
        "for i in range(5):\n",
        "  vetor.append(input(\"Digite o valor da posição \" +str(i)+ ':\\n'))\n",
        "\n",
        "valor = input(\"Digite o valor a ser encontrado no vetor\\n\")\n",
        "\n",
        "if (valor in vetor):\n",
        "  for i in range(len(vetor)):\n",
        "    if valor == vetor[i]:\n",
        "      print(\"O numero \"+str(valor)+ \" se encontra na lista e na posição: \"+str(i))\n",
        "else:\n",
        "  print(\"O numero \"+str(valor)+ \" NÃO se encontra na lista\")\n",
        "\n",
        "print(\"\\n\\nFIM DO PROGRAMA!!!\")\n",
        "## EXERCÍCIO FUNCIONANDO! ##"
      ],
      "metadata": {
        "colab": {
          "base_uri": "https://localhost:8080/"
        },
        "id": "KwOo310xOR6j",
        "outputId": "30502021-44de-4206-e16a-481d399a70f6"
      },
      "execution_count": 3,
      "outputs": [
        {
          "output_type": "stream",
          "name": "stdout",
          "text": [
            "Digite o valor da posição 0:\n",
            "23\n",
            "Digite o valor da posição 1:\n",
            "45\n",
            "Digite o valor da posição 2:\n",
            "3\n",
            "Digite o valor da posição 3:\n",
            "66\n",
            "Digite o valor da posição 4:\n",
            "87\n",
            "Digite o valor a ser encontrado no vetor\n",
            "23\n",
            "O numero 23 se encontra na lista e na posição: 0\n",
            "\n",
            "\n",
            "FIM DO PROGRAMA!!!\n"
          ]
        }
      ]
    },
    {
      "cell_type": "markdown",
      "source": [
        "14 - Um dado é lançado 50 vezes, e o valor correspondente é armazenado em um vetor. Faça um programa que determine o percentual de ocorrências de face 6 do\n",
        "dado dentre esses 50 lançamentos."
      ],
      "metadata": {
        "id": "krk6jOH0OdmC"
      }
    },
    {
      "cell_type": "code",
      "source": [
        "# Resolução Exercício 14\n",
        "import random\n",
        "\n",
        "vetor = []\n",
        "perc = 0\n",
        " \n",
        "for i in range(50):\n",
        "  n = random.randint(0, 6)\n",
        "  if (n == 6):\n",
        "    perc = perc + 1\n",
        "  vetor.append(n)\n",
        "\n",
        "resul = perc*100/50\n",
        "print(vetor)\n",
        "print(\"O percentual de ocorrências de numero 6 no lançamento do dado é de: \" +str(perc*100/50)+ \"%\")\n",
        "\n",
        "print(\"\\n\\nFIM DO PROGRAMA!!!\")\n",
        "## EXERCÍCIO FUNCIONANDO! ##"
      ],
      "metadata": {
        "colab": {
          "base_uri": "https://localhost:8080/"
        },
        "id": "1t5sdcfnOjCQ",
        "outputId": "9e8c74e9-2e8f-4f6a-994e-bd6bfb4ba3d5"
      },
      "execution_count": 4,
      "outputs": [
        {
          "output_type": "stream",
          "name": "stdout",
          "text": [
            "[3, 4, 5, 0, 6, 1, 1, 3, 4, 1, 2, 0, 3, 3, 6, 6, 1, 6, 1, 5, 1, 1, 5, 1, 5, 5, 2, 6, 5, 6, 4, 0, 2, 5, 5, 1, 0, 3, 5, 1, 0, 2, 3, 6, 0, 3, 0, 1, 5, 6]\n",
            "O percentual de ocorrências de numero 6 no lançamento do dado é de: 16.0%\n",
            "\n",
            "\n",
            "FIM DO PROGRAMA!!!\n"
          ]
        }
      ]
    },
    {
      "cell_type": "markdown",
      "source": [
        "15 - Faça um programa que leia um vetor **vet** de 20 posições. O programa deve gerar, a partir do vetor lido, um outro vetor **pos** que contenha apenas os valores inteiros positivos de **vet**. A partir do vetor **pos**, deve ser gerado um outro vetor **semdup** que contenha apenas uma ocorrência de cada valor de **pos**. "
      ],
      "metadata": {
        "id": "lTkGRx_EOqfZ"
      }
    },
    {
      "cell_type": "code",
      "source": [
        "# Resolução Exercício 15\n",
        "vet = [-3, 9, -2, -11, 53, 33, -45, 9, 8, -2, 8, -1, -3, 5, -4, -5, 91, -77, 11, 11]\n",
        "pos = [] \n",
        "semdup = []\n",
        "\n",
        "for i in range(len(vet)):\n",
        "  if vet[i] >=0:\n",
        "    pos.append(vet[i])\n",
        "print(pos)\n",
        "\n",
        "pos = sorted(pos)\n",
        "print(pos)\n",
        "\n",
        "for i in range(len(pos)-1):  \n",
        "  if (pos[i] != pos[i+1]):\n",
        "    semdup.append(pos[i])\n",
        "if (pos[-2] != pos[-1]):\n",
        "  semdup.append(pos[-1])\n",
        "print(semdup)\n",
        "\n",
        "print(\"\\n\\nFIM DO PROGRAMA!!!\")\n",
        "## EXERCÍCIO FUNCIONANDO! ##"
      ],
      "metadata": {
        "colab": {
          "base_uri": "https://localhost:8080/"
        },
        "id": "aC9TRJ-7Ot6P",
        "outputId": "e11eba47-4cf9-4d6c-9c42-091bee2eb68f"
      },
      "execution_count": 5,
      "outputs": [
        {
          "output_type": "stream",
          "name": "stdout",
          "text": [
            "[9, 53, 33, 9, 8, 8, 5, 91, 11, 11]\n",
            "[5, 8, 8, 9, 9, 11, 11, 33, 53, 91]\n",
            "[5, 8, 9, 11, 33, 53, 91]\n",
            "\n",
            "\n",
            "FIM DO PROGRAMA!!!\n"
          ]
        }
      ]
    },
    {
      "cell_type": "markdown",
      "source": [
        "16 - Faça um programa que leia uma matriz $3\\times3$ de inteiros e multiplique os elementos da diagonal principal da matriz por um número k. Imprima a matriz na tela antes e depois da multiplicação."
      ],
      "metadata": {
        "id": "-0OCYYYPPQZO"
      }
    },
    {
      "cell_type": "code",
      "source": [
        "# Resolução Exercício 15\n",
        "mat = [[1, 2, 3], [4, 5, 6], [7, 8, 9]]\n",
        "k = 10\n",
        "\n",
        "print(mat)\n",
        "for i in range(3):\n",
        "  mat[i][i] = mat[i][i]*k\n",
        "\n",
        "print(mat)\n",
        "\n",
        "print(\"\\n\\nFIM DO PROGRAMA!!!\")\n",
        "## EXERCÍCIO FUNCIONANDO! ##"
      ],
      "metadata": {
        "colab": {
          "base_uri": "https://localhost:8080/"
        },
        "id": "38_B_dt0PTSU",
        "outputId": "fe7d510b-2d20-40a6-dde0-e16c60ec933d"
      },
      "execution_count": 6,
      "outputs": [
        {
          "output_type": "stream",
          "name": "stdout",
          "text": [
            "[[1, 2, 3], [4, 5, 6], [7, 8, 9]]\n",
            "[[10, 2, 3], [4, 50, 6], [7, 8, 90]]\n",
            "\n",
            "\n",
            "FIM DO PROGRAMA!!!\n"
          ]
        }
      ]
    },
    {
      "cell_type": "markdown",
      "source": [
        "17 - Faça um programa que leia duas matrizes A e B $2\\times2$ de inteiros e imprima a matriz C que é a soma das matrizes A e B."
      ],
      "metadata": {
        "id": "D5_1WvQ6Pa_J"
      }
    },
    {
      "cell_type": "code",
      "source": [
        "# Resolução Exercício 17\n",
        "mat1 = [[1, 2], [3, 4]]\n",
        "mat2 = [[1, 2], [3, 4]]\n",
        "mat_soma = []\n",
        "\n",
        "for i in range(2):\n",
        "  mat_soma.append([])\n",
        "  for j in range(2):\n",
        "    soma = mat1[i][j] + mat2[i][j]\n",
        "    mat_soma[i].append(soma)\n",
        "\n",
        "print(mat1)\n",
        "print(mat2)\n",
        "print(mat_soma)\n",
        "\n",
        "print(\"\\n\\nFIM DO PROGRAMA!!!\")\n",
        "## EXERCÍCIO FUNCIONANDO! ##"
      ],
      "metadata": {
        "colab": {
          "base_uri": "https://localhost:8080/"
        },
        "id": "zByeqVQpPerY",
        "outputId": "bef7031f-4a91-4c00-f575-32708a007dc9"
      },
      "execution_count": 7,
      "outputs": [
        {
          "output_type": "stream",
          "name": "stdout",
          "text": [
            "[[1, 2], [3, 4]]\n",
            "[[1, 2], [3, 4]]\n",
            "[[2, 4], [6, 8]]\n",
            "\n",
            "\n",
            "FIM DO PROGRAMA!!!\n"
          ]
        }
      ]
    },
    {
      "cell_type": "markdown",
      "source": [
        "18 - Faça um programa que leia as dimensões de duas matrizes A e B, e depois leia as duas matrizes (os elementos devem ser inteiros). Se as matrizes forem de\n",
        "tamanhos compatíveis para multiplicação, multiplique as matrizes. Imprima as matrizes A, B e a matriz resultante da multiplicação. "
      ],
      "metadata": {
        "id": "8VZutvRkP7Lp"
      }
    },
    {
      "cell_type": "code",
      "source": [
        "# Resolução Exercício 18\n",
        "mat1 = [[1, 2], [3, 4]]\n",
        "mat2 = [[1, 2], [3, 4]]\n",
        "#mat2 = [[1, 2], [3, 4], [5, 6]]\n",
        "mat_mult = []\n",
        "\n",
        "if(len(mat1) == len(mat2) and len(mat1[0]) == len(mat2[0])):\n",
        "  for i in range(2):\n",
        "    mat_mult.append([])\n",
        "    for j in range(2):\n",
        "      mult = mat1[i][j] * mat2[i][j]\n",
        "      mat_mult[i].append(mult)\n",
        "  \n",
        "  print(\"Matriz A = \", mat1)\n",
        "  print(\"Matriz B = \",mat2)\n",
        "  print(\"Multiplicação de A*B = \", mat_mult)\n",
        "else:\n",
        "  print(\"Dimensões de matriz 1 e matriz 2 são diferentes\")\n",
        "\n",
        "print(\"\\n\\nFIM DO PROGRAMA!!!\")\n",
        "## EXERCÍCIO FUNCIONANDO! ##"
      ],
      "metadata": {
        "colab": {
          "base_uri": "https://localhost:8080/"
        },
        "id": "kxgt_wNYP_CJ",
        "outputId": "8dcb3c8d-e509-4b7d-bf2b-4aabe023ccdd"
      },
      "execution_count": 8,
      "outputs": [
        {
          "output_type": "stream",
          "name": "stdout",
          "text": [
            "Matriz A =  [[1, 2], [3, 4]]\n",
            "Matriz B =  [[1, 2], [3, 4]]\n",
            "Multiplicação de A*B =  [[1, 4], [9, 16]]\n",
            "\n",
            "\n",
            "FIM DO PROGRAMA!!!\n"
          ]
        }
      ]
    },
    {
      "cell_type": "markdown",
      "source": [
        "19 - Faça um programa que leia uma matriz $6\\times3$ com números reais, calcule e mostre: \n",
        "> 1. o maior elemento da matriz e sua respectiva posição (linha e coluna)\n",
        "> 2. o menor elemento da matriz e sua respectiva posição.\n",
        "\n",
        "```\n",
        "# Isto está formatado como código\n",
        "```\n",
        "\n"
      ],
      "metadata": {
        "id": "FsWXV7_UQI4L"
      }
    },
    {
      "cell_type": "code",
      "source": [
        "# Resolução Exercício 19\n",
        "m = [[1.0, 2.3, -3.4, 4.8, 5.6, 6.9], [1.1, 2.2, 3.3, 4.4, 5.5, 6.6], [1.9, 12.8, 3.7, 4.6, 5.5, 6.4]]\n",
        "\n",
        "maior = m[0][0]\n",
        "menor = m[0][0]\n",
        "menor_linha, menor_coluna, maior_linha, maior_coluna  = 0, 0, 0, 0\n",
        "\n",
        "for l in range(len(m)):\n",
        "  for c in range(len(m[0])):\n",
        "    if maior < m[l][c]:\n",
        "      maior = m[l][c]\n",
        "      maior_linha = l\n",
        "      maior_coluna = c\n",
        "    if menor > m[l][c]:\n",
        "      menor = m[l][c]\n",
        "      menor_linha = l\n",
        "      menor_coluna = c\n",
        "\n",
        "print('ValorMax = {}   Posição: ({},{})'.format(maior, maior_linha, maior_coluna))\n",
        "print('ValorMin = {}   Posição: ({},{})'.format(menor, menor_linha, menor_coluna))\n",
        "\n",
        "print(\"\\n\\nFIM DO PROGRAMA!!!\")\n",
        "## EXERCÍCIO FUNCIONANDO! ##"
      ],
      "metadata": {
        "colab": {
          "base_uri": "https://localhost:8080/"
        },
        "id": "TreCDIobQKJn",
        "outputId": "16dee469-b27b-4c6d-da1e-93f40c482dcb"
      },
      "execution_count": 9,
      "outputs": [
        {
          "output_type": "stream",
          "name": "stdout",
          "text": [
            "ValorMax = 12.8   Posição: (2,1)\n",
            "ValorMin = -3.4   Posição: (0,2)\n",
            "\n",
            "\n",
            "FIM DO PROGRAMA!!!\n"
          ]
        }
      ]
    },
    {
      "cell_type": "markdown",
      "source": [
        "20 - Faça um programa que leia duas matrizes A e B de números inteiros e verifica se ambas são inversas (ou seja, se a multiplicação de A por B é a matriz identidade)."
      ],
      "metadata": {
        "id": "a8eHFUcZQR7g"
      }
    },
    {
      "cell_type": "code",
      "source": [
        "# Resolução Exercício 20\n",
        "mat1 = [[1, 2], [3, 4]]\n",
        "#mat1 = [[5, 6], [7, 9], [3, 8]]\n",
        "mat2 = [[5, 6], [7, 9]]\n",
        "#mat2 = [[5, 6], [7, 9], [3, 8]]\n",
        "inv1, inv2, matIdent = [], [], []\n",
        "\n",
        "if (len(mat1) == len(mat2)) and (len(mat1[0]) == len(mat2[0]) and len(mat1) == len(mat1[0])):\n",
        "  print(\"São matrizes iguais\\n\")\n",
        "  for l in range(len(mat1)):\n",
        "    linha1 = []\n",
        "    linha2 = []\n",
        "    for c in range(len(mat1)):\n",
        "      linha1.append(mat1[c][l])\n",
        "      linha2.append(mat2[c][l])\n",
        "  inv1.append(linha1)\n",
        "  inv2.append(linha2)\n",
        "else:\n",
        "  print(\"Não são Matrizes Iguais!\")\n",
        "\n",
        "# Faz MATRIZ inversa de A e B\n",
        "print(\"Matriz 1: \")\n",
        "print(mat1)\n",
        "print(inv1)\n",
        "\n",
        "print(\"Matriz 2: \")\n",
        "print(mat2)\n",
        "print(inv2)\n",
        "\n",
        "print(matIdent)\n",
        "\n",
        "## EXERCÍCIO Não FUNCIONOU! ##"
      ],
      "metadata": {
        "colab": {
          "base_uri": "https://localhost:8080/"
        },
        "id": "6H_qqAfSQUv6",
        "outputId": "b24f7f83-b7c9-4559-ca2b-13d2e522c602"
      },
      "execution_count": 10,
      "outputs": [
        {
          "output_type": "stream",
          "name": "stdout",
          "text": [
            "São matrizes iguais\n",
            "\n",
            "Matriz 1: \n",
            "[[1, 2], [3, 4]]\n",
            "[[2, 4]]\n",
            "Matriz 2: \n",
            "[[5, 6], [7, 9]]\n",
            "[[6, 9]]\n",
            "[]\n"
          ]
        }
      ]
    },
    {
      "cell_type": "markdown",
      "source": [
        "21 - Faça um programa que leia uma matriz $3\\times3$ que representa um tabuleiro de jogo da velha e indique qual posição deveria ser jogada para ganhar o jogo (se possível) ou ao menos evitar uma derrota. "
      ],
      "metadata": {
        "id": "KqU29117tn8T"
      }
    },
    {
      "cell_type": "code",
      "source": [
        "# Resolução Exercício 21\n",
        "import random\n",
        "pos = [ [\" \" for i in range(3)] for j in range(3)]\n",
        "print(pos)\n",
        "n = 0\n",
        "\n",
        "while(n < 9):\n",
        "  if (n%2 == 0):\n",
        "    n = n + 1\n",
        "    while(1): #Jogada da Máquina\n",
        "      l = random.randint(0,2)\n",
        "      c = random.randint(0,2)\n",
        "      if (pos[l][c] == \" \"):\n",
        "        print(\"\\nMÁQUINA Jogou!\\n\")\n",
        "        pos[l][c] = '0';\n",
        "        print(\"   0   1   2\")\n",
        "        print(\"0: \" + str(pos[0][0]) + \" | \" + str(pos[0][1]) + \" | \" + str(pos[0][2]))\n",
        "        print(\"-------------\")\n",
        "        print(\"1: \" + str(pos[1][0]) + \" | \" + str(pos[1][1]) + \" | \" + str(pos[1][2]))\n",
        "        print(\"-------------\")   \n",
        "        print(\"2: \" + str(pos[2][0]) + \" | \" + str(pos[2][1]) + \" | \" + str(pos[2][2]))\n",
        "        if (n>=9):\n",
        "          print(\"\\nNinguém ganhou!\\n\")\n",
        "          break\n",
        "        break\n",
        "  else:\n",
        "    n = n + 1\n",
        "    while(1): #Jogada do Humano\n",
        "      l = int(input(\"\\nDigite a coordenada da linha: \"))\n",
        "      c = int(input(\"Digite a coordenada da coluna: \"))\n",
        "      if (pos[l][c] == ' '):\n",
        "        print(\"\\nVOCÊ Jogou!\\n\")\n",
        "        pos[l][c] = 'X'\n",
        "        print(\"   0   1   2\")\n",
        "        print(\"0: \" + str(pos[0][0]) + \" | \" + str(pos[0][1]) + \" | \" + str(pos[0][2]))\n",
        "        print(\"-------------\")\n",
        "        print(\"1: \" + str(pos[1][0]) + \" | \" + str(pos[1][1]) + \" | \" + str(pos[1][2]))\n",
        "        print(\"-------------\")   \n",
        "        print(\"2: \" + str(pos[2][0]) + \" | \" + str(pos[2][1]) + \" | \" + str(pos[2][2]))\n",
        "        if (n>=9):\n",
        "          print(\"\\nNinguém ganhou!\\n\")\n",
        "          break\n",
        "        break\n",
        "      else:\n",
        "        print(\"\\nA posição escolhida já foi preenchida\\n\")\n",
        "\n",
        "  if (pos[0][0] == '0' and pos[0][1] == \"0\" and  pos[0][2] == \"0\" ):\n",
        "    print(\"\\nA MÁQUINA ganhou, linha 0 completa!\")\n",
        "    break\n",
        "  elif (pos[1][0] == '0' and pos[1][1] == \"0\" and  pos[1][2] == \"0\" ):\n",
        "    print(\"\\nA MÁQUINA ganhou, linha 1 completa!\")\n",
        "    break\n",
        "  elif (pos[2][0] == '0' and pos[2][1] == \"0\" and  pos[2][2] == \"0\" ):\n",
        "    print(\"\\nA MÁQUINA ganhou, linha 2 completa!\")\n",
        "    break \n",
        "  elif (pos[0][0] == '0' and pos[1][0] == \"0\" and  pos[2][0] == \"0\" ):\n",
        "    print(\"\\nA MÁQUINA ganhou, coluna 0 completa!\")\n",
        "    break\n",
        "  elif (pos[0][1] == '0' and pos[1][1] == \"0\" and  pos[2][1] == \"0\" ):\n",
        "    print(\"\\nA MÁQUINA ganhou, coluna 1 completa!\")\n",
        "    break\n",
        "  elif (pos[0][2] == '0' and pos[1][2] == \"0\" and  pos[2][2] == \"0\" ):\n",
        "    print(\"\\nA MÁQUINA ganhou, coluna 2 completa!\") \n",
        "    break\n",
        "  elif (pos[0][0] == '0' and pos[1][1] == \"0\" and  pos[2][2] == \"0\" ):\n",
        "    print(\"\\nA MÁQUINA ganhou, diagonal principal completa!\")\n",
        "    break\n",
        "  elif (pos[2][0] == '0' and pos[1][1] == \"0\" and  pos[0][2] == \"0\" ):\n",
        "    print(\"\\nA MÁQUINA ganhou, diagonal inversa completa!\")\n",
        "    break\n",
        "\n",
        "  if (pos[0][0] == 'X' and pos[0][1] == \"X\" and  pos[0][2] == \"X\" ):\n",
        "    print(\"\\nVOCE ganhou, linha 0 completa!\")\n",
        "    break\n",
        "  elif (pos[1][0] == 'X' and pos[1][1] == \"X\" and  pos[1][2] == \"X\" ):\n",
        "    print(\"\\nVOCE ganhou, linha 1 completa!\")\n",
        "    break\n",
        "  elif (pos[2][0] == 'X' and pos[2][1] == \"X\" and  pos[2][2] == \"X\" ):\n",
        "    print(\"\\nVOCE ganhou, linha 2 completa!\")\n",
        "    break \n",
        "  elif (pos[0][0] == 'X' and pos[1][0] == \"X\" and  pos[2][0] == \"X\" ):\n",
        "    print(\"\\nVOCE ganhou, coluna 0 completa!\")\n",
        "    break\n",
        "  elif (pos[0][1] == 'X' and pos[1][1] == \"X\" and  pos[2][1] == \"X\" ):\n",
        "    print(\"\\nVOCE ganhou, coluna 1 completa!\")\n",
        "    break\n",
        "  elif (pos[0][2] == 'X' and pos[1][2] == \"X\" and  pos[2][2] == \"X\" ):\n",
        "    print(\"\\nVOCE ganhou, coluna 2 completa!\")\n",
        "    break\n",
        "  elif (pos[0][0] == 'X' and pos[1][1] == \"X\" and  pos[2][2] == \"X\" ):\n",
        "    print(\"\\nVOCE ganhou, diagonal principal completa!\")\n",
        "    break\n",
        "  elif (pos[2][0] == 'X' and pos[1][1] == \"X\" and  pos[0][2] == \"X\" ):\n",
        "    print(\"\\nVOCE ganhou, diagonal inversa completa!\")\n",
        "    break\n",
        "\n",
        "print(\"\\n\\nFIM DO PROGRAMA!!!\")\n",
        "## EXERCÍCIO FUNCIONANDO! ##"
      ],
      "metadata": {
        "colab": {
          "base_uri": "https://localhost:8080/"
        },
        "id": "iQkYNvnitsq2",
        "outputId": "9bc7ba86-0ba2-4a5e-d6e6-9852ae7887ef"
      },
      "execution_count": 11,
      "outputs": [
        {
          "output_type": "stream",
          "name": "stdout",
          "text": [
            "[[' ', ' ', ' '], [' ', ' ', ' '], [' ', ' ', ' ']]\n",
            "\n",
            "MÁQUINA Jogou!\n",
            "\n",
            "   0   1   2\n",
            "0:   |   |  \n",
            "-------------\n",
            "1:   |   | 0\n",
            "-------------\n",
            "2:   |   |  \n",
            "\n",
            "Digite a coordenada da linha: 1\n",
            "Digite a coordenada da coluna: 1\n",
            "\n",
            "VOCÊ Jogou!\n",
            "\n",
            "   0   1   2\n",
            "0:   |   |  \n",
            "-------------\n",
            "1:   | X | 0\n",
            "-------------\n",
            "2:   |   |  \n",
            "\n",
            "MÁQUINA Jogou!\n",
            "\n",
            "   0   1   2\n",
            "0:   |   |  \n",
            "-------------\n",
            "1: 0 | X | 0\n",
            "-------------\n",
            "2:   |   |  \n",
            "\n",
            "Digite a coordenada da linha: 0\n",
            "Digite a coordenada da coluna: 2\n",
            "\n",
            "VOCÊ Jogou!\n",
            "\n",
            "   0   1   2\n",
            "0:   |   | X\n",
            "-------------\n",
            "1: 0 | X | 0\n",
            "-------------\n",
            "2:   |   |  \n",
            "\n",
            "MÁQUINA Jogou!\n",
            "\n",
            "   0   1   2\n",
            "0:   | 0 | X\n",
            "-------------\n",
            "1: 0 | X | 0\n",
            "-------------\n",
            "2:   |   |  \n",
            "\n",
            "Digite a coordenada da linha: 2\n",
            "Digite a coordenada da coluna: 0\n",
            "\n",
            "VOCÊ Jogou!\n",
            "\n",
            "   0   1   2\n",
            "0:   | 0 | X\n",
            "-------------\n",
            "1: 0 | X | 0\n",
            "-------------\n",
            "2: X |   |  \n",
            "\n",
            "VOCE ganhou, diagonal inversa completa!\n",
            "\n",
            "\n",
            "FIM DO PROGRAMA!!!\n"
          ]
        }
      ]
    },
    {
      "cell_type": "markdown",
      "source": [
        "22 - Esreva um programa que conta a quantidade de vogais em um texto e armazena tal quantidade em um dicionário, onde a chave é a vogal considerada."
      ],
      "metadata": {
        "id": "PtXqJ31It6u_"
      }
    },
    {
      "cell_type": "code",
      "source": [
        "# Resolução Exercício 22\n",
        "\n",
        "texto = \"Curso de Pós Graduação em Robótica e Inteligencia Artificial\"\n",
        "\n",
        "string = texto.lower() # para que a comparação não seja sensível a maiuscula/minuscula\n",
        "dicionario = {} # cria uma tupla vazia\n",
        "\n",
        "vogais = 'aeiou'\n",
        "for i in vogais:\n",
        "  dicionario[i] = texto.count(i)\n",
        "\n",
        "print(\"Imprime a quantidade de cada vogal no texto\\n\")\n",
        "print(\"Letra a: \", dicionario.get(\"a\")) # Duas formas de acessar o dicionário esta\n",
        "print(\"Letra e: \", dicionario['e'])     # Outra forma de acessar\n",
        "print(\"Letra i: \", dicionario['i'])\n",
        "print(\"Letra o: \", dicionario['o'])\n",
        "print(\"Letra u: \", dicionario['u'])\n",
        "\n",
        "print(\"\\n\\nFIM DO PROGRAMA!!!\")\n",
        "## EXERCÍCIO FUNCIONANDO! ##"
      ],
      "metadata": {
        "colab": {
          "base_uri": "https://localhost:8080/"
        },
        "id": "TlNj1NHXt-1_",
        "outputId": "1bcd88a1-10cd-423c-97e3-4b1c3e993930"
      },
      "execution_count": 12,
      "outputs": [
        {
          "output_type": "stream",
          "name": "stdout",
          "text": [
            "Imprime a quantidade de cada vogal no texto\n",
            "\n",
            "Letra a:  5\n",
            "Letra e:  5\n",
            "Letra i:  6\n",
            "Letra o:  3\n",
            "Letra u:  2\n",
            "\n",
            "\n",
            "FIM DO PROGRAMA!!!\n"
          ]
        }
      ]
    },
    {
      "cell_type": "markdown",
      "source": [
        "23 - Escreva um programa que lê duas notas de vários alunos e armazena tais notas em um dicionário, onde a chave é o nome do aluno. A entrada de dados deve terminar quando for lida uma string vazia como nome. Escreva uma função que retorna a média do aluno, dado seu nome."
      ],
      "metadata": {
        "id": "7beigdx_uE_O"
      }
    },
    {
      "cell_type": "code",
      "source": [
        "# Resolução Exercício 23\n",
        "diario = {}\n",
        "while(True):\n",
        "  nome = input(\"Digite o nome do aluno: \")\n",
        "  \n",
        "  if (not nome): # Se string nome vazia finaliza o programa\n",
        "    break\n",
        "  nota1 = float(input(\"Digite a 1ª Nota dele: \"))\n",
        "  nota2 = float(input(\"Digite a 2ª Nota dele: \"))\n",
        "  diario [nome] = [nota1, nota2] #Add nomes com notas no Dicionário\n",
        "\n",
        "print(diario.keys()) #Apresenta os nomes dos alunos\n",
        "print(diario.values()) #Apresenta todas as notas\n",
        "\n",
        "buscaNome = input(\"Digite o NOME para calcular a Média:\")\n",
        "\n",
        "d = diario.pop(buscaNome)\n",
        "\n",
        "soma = 0\n",
        "for i in range(len(d)):\n",
        "  soma = soma + d[i]\n",
        "print(\"A medida de notas do(a) \", buscaNome, \" é de: \", soma/2)\n",
        "\n",
        "print(\"\\n\\nFIM DO PROGRAMA!!!\")\n",
        "## EXERCÍCIO FUNCIONANDO! ##"
      ],
      "metadata": {
        "colab": {
          "base_uri": "https://localhost:8080/"
        },
        "id": "ck_6vCjauDe0",
        "outputId": "5aef346e-c8ab-444f-fd6d-89fe4b0dcbbf"
      },
      "execution_count": 13,
      "outputs": [
        {
          "output_type": "stream",
          "name": "stdout",
          "text": [
            "Digite o nome do aluno: Paula\n",
            "Digite a 1ª Nota dele: 3.4\n",
            "Digite a 2ª Nota dele: 6\n",
            "Digite o nome do aluno: Roger\n",
            "Digite a 1ª Nota dele: 4.6\n",
            "Digite a 2ª Nota dele: 9.1\n",
            "Digite o nome do aluno: Maria\n",
            "Digite a 1ª Nota dele: 5\n",
            "Digite a 2ª Nota dele: 5\n",
            "Digite o nome do aluno: \n",
            "dict_keys(['Paula', 'Roger', 'Maria'])\n",
            "dict_values([[3.4, 6.0], [4.6, 9.1], [5.0, 5.0]])\n",
            "Digite o NOME para calcular a Média:Paula\n",
            "A medida de notas do(a)  Paula  é de:  4.7\n",
            "\n",
            "\n",
            "FIM DO PROGRAMA!!!\n"
          ]
        }
      ]
    }
  ]
}