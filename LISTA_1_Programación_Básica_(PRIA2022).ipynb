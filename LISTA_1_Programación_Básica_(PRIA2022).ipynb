{
  "nbformat": 4,
  "nbformat_minor": 0,
  "metadata": {
    "colab": {
      "name": "LISTA 1 - Programación Básica_(PRIA2022).ipynb",
      "provenance": [],
      "collapsed_sections": [],
      "authorship_tag": "ABX9TyP7a13/Qk1k+PeU0/njAp2C",
      "include_colab_link": true
    },
    "kernelspec": {
      "name": "python3",
      "display_name": "Python 3"
    },
    "language_info": {
      "name": "python"
    }
  },
  "cells": [
    {
      "cell_type": "markdown",
      "metadata": {
        "id": "view-in-github",
        "colab_type": "text"
      },
      "source": [
        "<a href=\"https://colab.research.google.com/github/RogerioDDantas/Programacao_Basica-PRIA_2022-/blob/main/LISTA_1_Programaci%C3%B3n_B%C3%A1sica_(PRIA2022).ipynb\" target=\"_parent\"><img src=\"https://colab.research.google.com/assets/colab-badge.svg\" alt=\"Open In Colab\"/></a>"
      ]
    },
    {
      "cell_type": "markdown",
      "source": [
        "ALUNO: Rogério Daniel Dantas\n",
        "\n",
        "Disciplina: Programación Básica_(PRIA2022)\n",
        "\n",
        "LISTA 1:"
      ],
      "metadata": {
        "id": "BsMF3fYMGHlz"
      }
    },
    {
      "cell_type": "markdown",
      "source": [
        "RESOLUÇÃO DOS EXERCÍCIOS:\n",
        "\n",
        "# **Exercícios Aula 1**\n",
        "\n",
        "1. Escreva um programa que declare um vetor com 10 valores inteiros \n",
        "predefinidos. O programa deverá ler um valor inteiro e informar se o valor se encontra no vetor e, em caso afirmativo, em qual(is) posição(ões) o valor foi encontrado. Ao final, o programa deverá ordenar o vetor em ordem decrescente e escrever todos os valores na tela."
      ],
      "metadata": {
        "id": "tBlInXD7GuRP"
      }
    },
    {
      "cell_type": "code",
      "source": [
        "#Resolução Exercício 1:\n",
        "\n",
        "flag = 0 \n",
        "numeros = [10, 34, 3, 66, 82, 5, 8, 12, 7, 1]\n",
        "num = int(input(\"Digite um número: \"))\n",
        "\n",
        "\n",
        "for i in range(len(numeros)):\n",
        "  if (num == numeros[i]):\n",
        "    flag = 1\n",
        "    print(\"O número\", num, \"se encontra na posição\", i, \"do vetor\")\n",
        "\n",
        "if (flag == 0):\n",
        "  print(\"O número\", num, \"Não se encontra neste vetor!\")\n",
        "\n",
        "#Imprime o vetor e ordem crescente\n",
        "print(\"Vetor Ordenado em ordem crescente\", sorted(numeros))\n",
        "\n",
        "#Imprime o vetor e ordem decrescente\n",
        "print(\"Vetor Ordenado em ordem decrescente\", sorted(numeros, reverse=True))\n",
        "\n",
        "print(\"\\n\\nFIM DO PROGRAMA!!!\")\n",
        "## EXERCÍCIO FUNCIONANDO! ##"
      ],
      "metadata": {
        "colab": {
          "base_uri": "https://localhost:8080/"
        },
        "id": "hhrL_ZiiG5DR",
        "outputId": "80e84102-1762-4b06-d356-9f383e6d3a52"
      },
      "execution_count": null,
      "outputs": [
        {
          "output_type": "stream",
          "name": "stdout",
          "text": [
            "Digite um número: 34\n",
            "O número 34 se encontra na posição 1 do vetor\n",
            "Vetor Ordenado em ordem crescente [1, 3, 5, 7, 8, 10, 12, 34, 66, 82]\n",
            "Vetor Ordenado em ordem decrescente [82, 66, 34, 12, 10, 8, 7, 5, 3, 1]\n"
          ]
        }
      ]
    },
    {
      "cell_type": "markdown",
      "source": [
        "2. Escreva um programa que leia 5 nomes (cadeia de caracrteres) e 5 idades (inteiros) armazenando-os em 2 vetores. Em seguida, o programa deverá escrever na tela o nome da pessoa mais velha e o nome da pessoa mais nova."
      ],
      "metadata": {
        "id": "JhaZQtMQHZMb"
      }
    },
    {
      "cell_type": "code",
      "source": [
        "#Resolução Exercício 2:\n",
        "nomes = []\n",
        "idades = [] \n",
        "\n",
        "for i in range(1,6):\n",
        "  nome = input(\"Digite seu primeiro Nome: \")\n",
        "  idade = int(input(\"Digite sua Idade: \"))\n",
        "  nomes.append(nome)\n",
        "  idades.append(idade)\n",
        "\n",
        "print(\"A pessoa mais velha é\", nomes[idades.index(max(idades))])\n",
        "print(\"A pessoa mais nova é\", nomes[idades.index(min(idades))])\n",
        "\n",
        "print(\"\\n\\nFIM DO PROGRAMA!!!\")\n",
        "## EXERCÍCIO FUNCIONANDO! ##"
      ],
      "metadata": {
        "colab": {
          "base_uri": "https://localhost:8080/"
        },
        "id": "bhGDJCsEHaR_",
        "outputId": "11d15f5b-8675-40c6-99e2-93b430343bb8"
      },
      "execution_count": null,
      "outputs": [
        {
          "output_type": "stream",
          "name": "stdout",
          "text": [
            "Digite seu primeiro Nome: Maria\n",
            "Digite sua Idade: 23\n",
            "Digite seu primeiro Nome: José\n",
            "Digite sua Idade: 55\n",
            "Digite seu primeiro Nome: Carlos\n",
            "Digite sua Idade: 67\n",
            "Digite seu primeiro Nome: Marcos\n",
            "Digite sua Idade: 12\n",
            "Digite seu primeiro Nome: Ana\n",
            "Digite sua Idade: 7\n",
            "A pessoa mais velha é Carlos\n",
            "A pessoa mais nova é Ana\n",
            "\n",
            "\n",
            "FIM DO PROGRAMA!!!\n"
          ]
        }
      ]
    },
    {
      "cell_type": "markdown",
      "source": [
        "3. Faça um programa que leia três coordenadas num espaço 2D e indique se formam um triângulo, juntamente com o seu tipo (equilátero, isósceles e escaleno)\n",
        "> * Equilátero: todos os lados iguais\n",
        "> * Isósceles: dois lados iguais\n",
        "> * Escaleno: todos os lados diferentes"
      ],
      "metadata": {
        "id": "p6xOjDYkHyD9"
      }
    },
    {
      "cell_type": "code",
      "source": [
        "#Resolução Exercício 3:\n",
        "import math\n",
        "\n",
        "x = []\n",
        "y = []\n",
        "\n",
        "# Realiza a leitura das coordenadas do triângulo\n",
        "for i in range(0, 3):\n",
        "    #Exemplos de coordenadas AB(2,2); BC(-4,-6); CA(4,-12) - Triângulo\n",
        "    coordx = int(input(f'Digite a coordenada x{i+1}: '))\n",
        "    coordy = int(input(f'Digite a coordenada y{i+1}: '))\n",
        "    x.append(coordx)\n",
        "    y.append(coordy)\n",
        "    print(f\"Coordenada P{i+1}: ({coordx},{coordy})\")\n",
        "\n",
        "dAB = math.sqrt(math.pow(x[1] - x[0],2) + math.pow(y[1]-y[0],2))\n",
        "dBC = math.sqrt(math.pow(x[2] - x[1],2) + math.pow(y[2]-y[1],2))\n",
        "dCA = math.sqrt(math.pow(x[0] - x[2],2) + math.pow(y[0]-y[2],2))\n",
        "print(f\"\\nSegmento AB = {dAB: .2f}\")\n",
        "print(f\"Segmento BC = {dBC: .2f}\")\n",
        "print(f\"Segmento CA = {dCA: .2f}\")\n",
        "print(\"\\nPORTANTO: \")\n",
        "\n",
        "# Testando se é triângulo\n",
        "if (dAB + dBC < dCA) or (dAB + dCA < dBC) or (dBC + dCA < dAB):\n",
        "  print('Nao é um triangulo')\n",
        "elif (dAB == dBC) and (dAB == dCA):\n",
        "  print('É um triangulo Equilatero')\n",
        "elif (dAB==dBC) or (dAB==dCA) or (dBC==dCA):\n",
        "  print('É um triangulo Isósceles')\n",
        "else:\n",
        "  print('É um triangulo Escaleno')\n",
        "\n",
        "print(\"\\n\\nFIM DO PROGRAMA!!!\")\n",
        "## EXERCÍCIO FUNCIONANDO! ##"
      ],
      "metadata": {
        "colab": {
          "base_uri": "https://localhost:8080/"
        },
        "id": "I-ViQhbVHzWH",
        "outputId": "4bdd716f-f902-4346-f8f9-48240ab8e5f2"
      },
      "execution_count": null,
      "outputs": [
        {
          "output_type": "stream",
          "name": "stdout",
          "text": [
            "Digite a coordenada x1: 1\n",
            "Digite a coordenada y1: 1\n",
            "Coordenada P1: (1,1)\n",
            "Digite a coordenada x2: 2\n",
            "Digite a coordenada y2: 2\n",
            "Coordenada P2: (2,2)\n",
            "Digite a coordenada x3: 3\n",
            "Digite a coordenada y3: 3\n",
            "Coordenada P3: (3,3)\n",
            "\n",
            "Segmento AB =  1.41\n",
            "Segmento BC =  1.41\n",
            "Segmento CA =  2.83\n",
            "\n",
            "PORTANTO: \n",
            "É um triangulo Isósceles\n",
            "\n",
            "\n",
            "FIM DO PROGRAMA!!!\n"
          ]
        }
      ]
    },
    {
      "cell_type": "markdown",
      "source": [
        "4. Faça um programa que calcule o IMC de uma pessoa (IMC = massa em kg / altura em metros elevado ao quadrado) e informe a sua classificação segundo a tabela disponibilizada neste [link](https://pt.wikipedia.org/wiki/%C3%8Dndice_de_massa_corporal)"
      ],
      "metadata": {
        "id": "Py7t4yrPIEn6"
      }
    },
    {
      "cell_type": "code",
      "source": [
        "#Resolução Exercício 4:\n",
        "\n",
        "peso = int(input('Digite o seu peso em Kg: '))\n",
        "altura = float(input('Digite a sua altura em metros: '))\n",
        "\n",
        "imc = peso / (altura * altura)\n",
        "print(f\"Seu IMC é de {imc: .2f}, portanto você esta: \")\n",
        "\n",
        "if imc < 17:\n",
        "  print(\"Muito abaixo do peso\")\n",
        "elif (imc >= 17 and imc <= 18.49):\n",
        "  print('Abaixo do peso')\n",
        "elif (imc >= 18.5 and imc <= 24.99):\n",
        "  print('Peso normal')\n",
        "elif (imc >= 25 and imc <= 29.99):\n",
        "  print('Acima do normal')\n",
        "elif (imc >= 30 and imc <= 34.99):\n",
        "  print('Obesidade I')\n",
        "elif (imc >= 35 and imc <= 39.99):\n",
        "  print('Obesidade II (severa)')\n",
        "else:\n",
        "  print('Obesidade III (mórbida)')\n",
        "\n",
        "print(\"\\n\\nFIM DO PROGRAMA!!!\")\n",
        "## EXERCÍCIO FUNCIONANDO! ##"
      ],
      "metadata": {
        "colab": {
          "base_uri": "https://localhost:8080/"
        },
        "id": "K7XtkRxEIFyf",
        "outputId": "633cf559-c273-44cb-eb3a-002aaf158b5b"
      },
      "execution_count": null,
      "outputs": [
        {
          "output_type": "stream",
          "name": "stdout",
          "text": [
            "Digite o seu peso em Kg: 134\n",
            "Digite a sua altura em metros: 1.84\n",
            "Seu IMC é de  39.58, portanto você esta: \n",
            "Obesidade II (severa)\n",
            "\n",
            "\n",
            "FIM DO PROGRAMA!!!\n"
          ]
        }
      ]
    },
    {
      "cell_type": "markdown",
      "source": [
        "5. Faça um programa para listar todos os divisores de um número ou dizer que o número é primo caso não existam divisores. Ao final, verifique se o usuário deseja analisar outro número."
      ],
      "metadata": {
        "id": "RcEiTzgPIP3E"
      }
    },
    {
      "cell_type": "code",
      "source": [
        "#Resolução Exercício 5:\n",
        "cond = 0\n",
        "multiplo = 0\n",
        "\n",
        "while (cond == 0):\n",
        "  divisor = []       \n",
        "  num = int(input(\"Digite um número qualquer!\"))\n",
        "  for n in range(2,num+1):\n",
        "    if (num % n == 0):\n",
        "      divisor.append(n)\n",
        "      multiplo+=1\n",
        "\n",
        "  if(multiplo==1):\n",
        "    print(\"O número \", num, \" é primo! \")\n",
        "  else:\n",
        "    print(\"O numero\", num, \"e divisivel por:\", divisor)\n",
        "    \n",
        "  cond = int(input(\"Deseja continuar? \\nSe SIM digite => 0 \\nSe NÃO digite => 1  \"))\n",
        "\n",
        "print(\"\\n\\nFIM DO PROGRAMA!!!\")\n",
        "## EXERCÍCIO FUNCIONANDO! ##"
      ],
      "metadata": {
        "colab": {
          "base_uri": "https://localhost:8080/"
        },
        "id": "1mXN6jXFIUue",
        "outputId": "dc2df0fa-09d7-41f9-8ddf-c018438daa45"
      },
      "execution_count": null,
      "outputs": [
        {
          "output_type": "stream",
          "name": "stdout",
          "text": [
            "Digite um número qualquer!23\n",
            "O número  23  é primo!\n",
            "Deseja continuar? \n",
            "Se SIM digite => 0 \n",
            "Se NÃO digite => 1  1\n",
            "\n",
            "\n",
            "FIM DO PROGRAMA!!!\n"
          ]
        }
      ]
    },
    {
      "cell_type": "markdown",
      "source": [
        "6.Faça um programa para determinar o número de dígitos de um número inteiro positivo informado."
      ],
      "metadata": {
        "id": "YVXDnmAoIgZ-"
      }
    },
    {
      "cell_type": "code",
      "source": [
        "#Resolução Exercício 6:\n",
        "\n",
        "num = input(\"Digite um númro inteiro positivo, para que se possa identificado o numero de digitos:  \")\n",
        "print(\"O numero digitado possui\",len(num), \"digitos!\")\n",
        "\n",
        "print(\"\\n\\nFIM DO PROGRAMA!!!\")\n",
        "## EXERCÍCIO FUNCIONANDO! ##"
      ],
      "metadata": {
        "colab": {
          "base_uri": "https://localhost:8080/"
        },
        "id": "jICqUiR-IjzZ",
        "outputId": "212098db-ce68-4190-9b04-ddc24727a378"
      },
      "execution_count": null,
      "outputs": [
        {
          "output_type": "stream",
          "name": "stdout",
          "text": [
            "Digite um númro inteiro positivo, para que se possa identificado o numero de digitos:  1234\n",
            "O numero digitado possui 4 digitos!\n",
            "\n",
            "\n",
            "FIM DO PROGRAMA!!!\n"
          ]
        }
      ]
    },
    {
      "cell_type": "markdown",
      "source": [
        "7- Faça um programa para calcular a série de Fibonacci para um número informado pelo usuário, sendo:\n",
        "\n",
        "F(0) = 0\n",
        "\n",
        "F(1) = 1\n",
        "\n",
        "F(n) - F(n-1) + F(n-2)\n"
      ],
      "metadata": {
        "id": "tz2VotQRIs5K"
      }
    },
    {
      "cell_type": "code",
      "source": [
        "#Resolução Exercício 7:\n",
        "# sequenci de Fibonacci 0,1,1,2,3,5,8,13,21,34,55,89,144,22\n",
        "\n",
        "num = int(input(\"Digite um numero para que seja impresso a série de Fibonacci! \"))\n",
        "\n",
        "if(num == 0):\n",
        "  print(\"0\")\n",
        "elif num == 1:\n",
        "  print(\"0\\n1\")\n",
        "else:\n",
        "  print(\"0\")\n",
        "  nm_1 = 0\n",
        "  nm_2 = 1\n",
        "  n = 1\n",
        "  for n in range(1,num):\n",
        "    nm = (nm_1)+(nm_2)\n",
        "    nm_2 = nm_1\n",
        "    nm_1 = nm \n",
        "    print(nm)\n",
        "\n",
        "print(\"\\n\\nFIM DO PROGRAMA!!!\")\n",
        "## EXERCÍCIO FUNCIONANDO! ##"
      ],
      "metadata": {
        "colab": {
          "base_uri": "https://localhost:8080/"
        },
        "id": "Jy9hQSZhIuDi",
        "outputId": "bcad1112-2267-450f-acba-dad9bb086ffd"
      },
      "execution_count": null,
      "outputs": [
        {
          "output_type": "stream",
          "name": "stdout",
          "text": [
            "Digite um numero para que seja impresso a série de Fibonacci!6\n",
            "0\n",
            "1\n",
            "1\n",
            "2\n",
            "3\n",
            "5\n",
            "\n",
            "\n",
            "FIM DO PROGRAMA!!!\n"
          ]
        }
      ]
    },
    {
      "cell_type": "markdown",
      "source": [
        "8 - Faça um programa que calcule o retorno de um investimento financeiro fazendo as contas mês a mês, sem usar a fórmula de juros compostos. O usuário deve informar quanto será investido por mês e qual será a taxa de juros mensal. O programa deve informar o saldo do investimento após um ano (soma das aplicações mês a mês considerando os juros compostos), e perguntar ao usuário se ele deseja que seja calculado o ano seguinte sucessivamente. Por exemplo, caso o usuário deseje investir R$ 100,00 por mês, e tenha uma taxa de juros de 1% ao mês, o programa forneceria a seguinte saída:\n",
        "\n",
        "Saldo do investimento após 1 ano: R$ 1.268,25\n",
        "\n",
        "Deseja processar mais um ano? (S/N)"
      ],
      "metadata": {
        "id": "v1I1AC7-I2Mo"
      }
    },
    {
      "cell_type": "code",
      "source": [
        "#Resolução Exercício 8:\n",
        "\n",
        "ivst = int(input(\"Digite o valor do investimento mensal em R$: \"))\n",
        "jrs = int(input(\"Digite a taxa de juros mensal (%): \"))\n",
        "n = 1\n",
        "saldo = ivst\n",
        "for n in range(1,13):\n",
        "  saldo = n*ivst + (saldo*jrs/100)\n",
        "  print(\"Saldo = R$%.2f\" % (saldo))\n",
        "\n",
        "print(\"\\n\\nFIM DO PROGRAMA!!!\")\n",
        "## EXERCÍCIO FUNCIONANDO! ##"
      ],
      "metadata": {
        "colab": {
          "base_uri": "https://localhost:8080/"
        },
        "id": "83qdw3AxI6Fv",
        "outputId": "10cdf7ae-a4ea-4fb6-93be-023c0cb8d9f4"
      },
      "execution_count": null,
      "outputs": [
        {
          "output_type": "stream",
          "name": "stdout",
          "text": [
            "Digite o valor do investimento mensal em R$: 100\n",
            "Digite a taxa de juros mensal (%): 1\n",
            "Saldo = R$101.00\n",
            "Saldo = R$201.01\n",
            "Saldo = R$302.01\n",
            "Saldo = R$403.02\n",
            "Saldo = R$504.03\n",
            "Saldo = R$605.04\n",
            "Saldo = R$706.05\n",
            "Saldo = R$807.06\n",
            "Saldo = R$908.07\n",
            "Saldo = R$1009.08\n",
            "Saldo = R$1110.09\n",
            "Saldo = R$1211.10\n",
            "\n",
            "\n",
            "FIM DO PROGRAMA!!!\n"
          ]
        }
      ]
    },
    {
      "cell_type": "markdown",
      "source": [
        "9 - Faça um programa que calcule o número de dias corridos entre duas datas, para vários pares de datas, considerando a possibilidade de ocorrência de anos bissextos, sendo que:\n",
        "\n",
        "    A primeira data é sempre a mais antiga O ano é fornecido com 4 dígitos A data fornecida com ZERO dias é sinal para encerrar a execução.\n",
        "\n"
      ],
      "metadata": {
        "id": "7aOTLSNgJCkl"
      }
    },
    {
      "cell_type": "code",
      "source": [
        "# Resolução Exercício 9:\n",
        "import datetime\n",
        "\n",
        "data1 = input('Digite a primeira data mais antiga no padrão DD/MM/AAAA\\n ')\n",
        "data2 = input('Digite a primeira data mais antiga no padrão DD/MM/AAAA\\n')\n",
        "dia1, mes1, ano1 = map(int,data.split('/'))\n",
        "#dia1, mes1, ano1 = [int(data) for datando in data1.split(\"/\")]\n",
        "data1 = datetime.date(ano1, mes1, dia1)\n",
        "print(data1)\n",
        "dia2, mes2, ano2 = map(int,data.split('/'))\n",
        "data2 = datetime.date(ano2, mes2, dia2)\n",
        "print(data2)\n",
        "\n",
        "#Verificar se é um ano Bissexto\n",
        "if (ano1%4==0 and ano1%100!=0) or (ano1%400==0):\n",
        "    print('Bissexto')\n",
        "else:\n",
        "    print('Não é bissexto')\n",
        "\n",
        "# EXERCÍCIOS NÃO FUNCIONOU!"
      ],
      "metadata": {
        "colab": {
          "base_uri": "https://localhost:8080/",
          "height": 310
        },
        "id": "txTWP6GvJHQg",
        "outputId": "df4d0f57-cecf-49d6-a86f-39cd470b1842"
      },
      "execution_count": null,
      "outputs": [
        {
          "name": "stdout",
          "output_type": "stream",
          "text": [
            "Digite a primeira data mais antiga no padrão DD/MM/AAAA\n",
            " 12/05/2020\n",
            "Digite a primeira data mais antiga no padrão DD/MM/AAAA\n",
            "12/06/2019\n"
          ]
        },
        {
          "output_type": "error",
          "ename": "NameError",
          "evalue": "ignored",
          "traceback": [
            "\u001b[0;31m---------------------------------------------------------------------------\u001b[0m",
            "\u001b[0;31mNameError\u001b[0m                                 Traceback (most recent call last)",
            "\u001b[0;32m<ipython-input-9-db7b1ff4234a>\u001b[0m in \u001b[0;36m<module>\u001b[0;34m()\u001b[0m\n\u001b[1;32m      4\u001b[0m \u001b[0mdata1\u001b[0m \u001b[0;34m=\u001b[0m \u001b[0minput\u001b[0m\u001b[0;34m(\u001b[0m\u001b[0;34m'Digite a primeira data mais antiga no padrão DD/MM/AAAA\\n '\u001b[0m\u001b[0;34m)\u001b[0m\u001b[0;34m\u001b[0m\u001b[0;34m\u001b[0m\u001b[0m\n\u001b[1;32m      5\u001b[0m \u001b[0mdata2\u001b[0m \u001b[0;34m=\u001b[0m \u001b[0minput\u001b[0m\u001b[0;34m(\u001b[0m\u001b[0;34m'Digite a primeira data mais antiga no padrão DD/MM/AAAA\\n'\u001b[0m\u001b[0;34m)\u001b[0m\u001b[0;34m\u001b[0m\u001b[0;34m\u001b[0m\u001b[0m\n\u001b[0;32m----> 6\u001b[0;31m \u001b[0mdia1\u001b[0m\u001b[0;34m,\u001b[0m \u001b[0mmes1\u001b[0m\u001b[0;34m,\u001b[0m \u001b[0mano1\u001b[0m \u001b[0;34m=\u001b[0m \u001b[0mmap\u001b[0m\u001b[0;34m(\u001b[0m\u001b[0mint\u001b[0m\u001b[0;34m,\u001b[0m\u001b[0mdata\u001b[0m\u001b[0;34m.\u001b[0m\u001b[0msplit\u001b[0m\u001b[0;34m(\u001b[0m\u001b[0;34m'/'\u001b[0m\u001b[0;34m)\u001b[0m\u001b[0;34m)\u001b[0m\u001b[0;34m\u001b[0m\u001b[0;34m\u001b[0m\u001b[0m\n\u001b[0m\u001b[1;32m      7\u001b[0m \u001b[0;31m#dia1, mes1, ano1 = [int(data) for datando in data1.split(\"/\")]\u001b[0m\u001b[0;34m\u001b[0m\u001b[0;34m\u001b[0m\u001b[0;34m\u001b[0m\u001b[0m\n\u001b[1;32m      8\u001b[0m \u001b[0mdata1\u001b[0m \u001b[0;34m=\u001b[0m \u001b[0mdatetime\u001b[0m\u001b[0;34m.\u001b[0m\u001b[0mdate\u001b[0m\u001b[0;34m(\u001b[0m\u001b[0mano1\u001b[0m\u001b[0;34m,\u001b[0m \u001b[0mmes1\u001b[0m\u001b[0;34m,\u001b[0m \u001b[0mdia1\u001b[0m\u001b[0;34m)\u001b[0m\u001b[0;34m\u001b[0m\u001b[0;34m\u001b[0m\u001b[0m\n",
            "\u001b[0;31mNameError\u001b[0m: name 'data' is not defined"
          ]
        }
      ]
    },
    {
      "cell_type": "markdown",
      "source": [
        "10. Faça um programa que simula uma calculadora que aceita as seguintes operações: soma, subtração, divisão e multiplicação. O programa inicia pedindo para o usuário escolher uma opção do menu:\n",
        "> 1.\tSomar\n",
        "> 2.\tSubtrair\n",
        "> 3.\tDividir\n",
        "> 4.\tMultiplicar\n",
        "> 5.\tSair\t"
      ],
      "metadata": {
        "id": "z4Nc65zrJ0OU"
      }
    },
    {
      "cell_type": "code",
      "source": [
        "#Resolução exercício 10:\n",
        "\n",
        "opcao = int(input(\"Escolha uma operação a ser realizada:\\n 1 - Somar\\n 2 - Sutrair\\n 3 - Dividir\\n 4 - Multiplicar\\n 5 - Sair\\n\\n\"))\n",
        "lista = ['Soma', 'Subtração', 'Divisão', 'Multiplicação']\n",
        "\n",
        "if (opcao == 5):\n",
        "  print(\"\\nFim do programa!\")\n",
        "if (opcao > 5): # trata qualquer outra escolha diferenta das opções iniciais  \n",
        "   print(\"\\nOperação escolhida é invalida!\")\n",
        "\n",
        "if (opcao < 5 and opcao > 0):\n",
        "  print(\"\\nOperação escolhida: \",lista[opcao-1])\n",
        "  num1 = int(input(\"Digite o primeiro numero da operação: \")) \n",
        "  num2 = int(input(\"Digite o segundo numero da operação: \"))\n",
        "  \n",
        "  if (opcao == 1): # Faz operação de Soma\n",
        "    print(f'O valor da Soma é: {num1+num2: .2f}')\n",
        "  \n",
        "  elif opcao == 2: # Faz operação de Subtração\n",
        "    print(f'O valor da Subtração é: {num1-num2: .2f}')\n",
        " \n",
        "  elif opcao == 3: # Faz operação de Divisão\n",
        "    print(f'O valor da Divisão é: {num1/num2: .2f}')\n",
        "\n",
        "  else: # Faz operação de Multiplicação\n",
        "    print(f'O valor da Multiplicação é: {num1*num2: .2f}')\n",
        "\n",
        "print(\"\\n\\nFIM DO PROGRAMA!!!\")\n",
        "## EXERCÍCIO FUNCIONANDO! ##"
      ],
      "metadata": {
        "colab": {
          "base_uri": "https://localhost:8080/"
        },
        "id": "Bh-G8amZJ3fF",
        "outputId": "3a5d3449-e4dd-4fe3-d229-ac9feed71589"
      },
      "execution_count": null,
      "outputs": [
        {
          "output_type": "stream",
          "name": "stdout",
          "text": [
            "Escolha uma operação a ser realizada:\n",
            " 1 - Somar\n",
            " 2 - Sutrair\n",
            " 3 - Dividir\n",
            " 4 - Multiplicar\n",
            " 5 - Sair\n",
            "\n",
            "3\n",
            "\n",
            "Operação escolhida:  Divisão\n",
            "Digite o primeiro numero da operação: 10\n",
            "Digite o segundo numero da operação: 3\n",
            "O valor da Divisão é:  3.33\n",
            "\n",
            "\n",
            "FIM DO PROGRAMA!!!\n"
          ]
        }
      ]
    }
  ]
}
